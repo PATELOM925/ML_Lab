{
 "cells": [
  {
   "cell_type": "code",
   "execution_count": 3,
   "metadata": {},
   "outputs": [],
   "source": [
    "import pandas as pd\n",
    "import matplotlib.pyplot as plt #1\n",
    "import seaborn as sns #2\n",
    "import plotly.express as px #3"
   ]
  },
  {
   "cell_type": "code",
   "execution_count": 15,
   "metadata": {},
   "outputs": [
    {
     "data": {
      "text/html": [
       "<div>\n",
       "<style scoped>\n",
       "    .dataframe tbody tr th:only-of-type {\n",
       "        vertical-align: middle;\n",
       "    }\n",
       "\n",
       "    .dataframe tbody tr th {\n",
       "        vertical-align: top;\n",
       "    }\n",
       "\n",
       "    .dataframe thead th {\n",
       "        text-align: right;\n",
       "    }\n",
       "</style>\n",
       "<table border=\"1\" class=\"dataframe\">\n",
       "  <thead>\n",
       "    <tr style=\"text-align: right;\">\n",
       "      <th></th>\n",
       "      <th>show_id</th>\n",
       "      <th>type</th>\n",
       "      <th>title</th>\n",
       "      <th>director</th>\n",
       "      <th>country</th>\n",
       "      <th>date_added</th>\n",
       "      <th>release_year</th>\n",
       "      <th>rating</th>\n",
       "      <th>duration</th>\n",
       "      <th>listed_in</th>\n",
       "    </tr>\n",
       "  </thead>\n",
       "  <tbody>\n",
       "    <tr>\n",
       "      <th>0</th>\n",
       "      <td>s1</td>\n",
       "      <td>Movie</td>\n",
       "      <td>Dick Johnson Is Dead</td>\n",
       "      <td>Kirsten Johnson</td>\n",
       "      <td>United States</td>\n",
       "      <td>9/25/2021</td>\n",
       "      <td>2020</td>\n",
       "      <td>PG-13</td>\n",
       "      <td>90 min</td>\n",
       "      <td>Documentaries</td>\n",
       "    </tr>\n",
       "    <tr>\n",
       "      <th>1</th>\n",
       "      <td>s3</td>\n",
       "      <td>TV Show</td>\n",
       "      <td>Ganglands</td>\n",
       "      <td>Julien Leclercq</td>\n",
       "      <td>France</td>\n",
       "      <td>9/24/2021</td>\n",
       "      <td>2021</td>\n",
       "      <td>TV-MA</td>\n",
       "      <td>1 Season</td>\n",
       "      <td>Crime TV Shows, International TV Shows, TV Act...</td>\n",
       "    </tr>\n",
       "    <tr>\n",
       "      <th>2</th>\n",
       "      <td>s6</td>\n",
       "      <td>TV Show</td>\n",
       "      <td>Midnight Mass</td>\n",
       "      <td>Mike Flanagan</td>\n",
       "      <td>United States</td>\n",
       "      <td>9/24/2021</td>\n",
       "      <td>2021</td>\n",
       "      <td>TV-MA</td>\n",
       "      <td>1 Season</td>\n",
       "      <td>TV Dramas, TV Horror, TV Mysteries</td>\n",
       "    </tr>\n",
       "    <tr>\n",
       "      <th>3</th>\n",
       "      <td>s14</td>\n",
       "      <td>Movie</td>\n",
       "      <td>Confessions of an Invisible Girl</td>\n",
       "      <td>Bruno Garotti</td>\n",
       "      <td>Brazil</td>\n",
       "      <td>9/22/2021</td>\n",
       "      <td>2021</td>\n",
       "      <td>TV-PG</td>\n",
       "      <td>91 min</td>\n",
       "      <td>Children &amp; Family Movies, Comedies</td>\n",
       "    </tr>\n",
       "    <tr>\n",
       "      <th>4</th>\n",
       "      <td>s8</td>\n",
       "      <td>Movie</td>\n",
       "      <td>Sankofa</td>\n",
       "      <td>Haile Gerima</td>\n",
       "      <td>United States</td>\n",
       "      <td>9/24/2021</td>\n",
       "      <td>1993</td>\n",
       "      <td>TV-MA</td>\n",
       "      <td>125 min</td>\n",
       "      <td>Dramas, Independent Movies, International Movies</td>\n",
       "    </tr>\n",
       "    <tr>\n",
       "      <th>...</th>\n",
       "      <td>...</td>\n",
       "      <td>...</td>\n",
       "      <td>...</td>\n",
       "      <td>...</td>\n",
       "      <td>...</td>\n",
       "      <td>...</td>\n",
       "      <td>...</td>\n",
       "      <td>...</td>\n",
       "      <td>...</td>\n",
       "      <td>...</td>\n",
       "    </tr>\n",
       "    <tr>\n",
       "      <th>8785</th>\n",
       "      <td>s8797</td>\n",
       "      <td>TV Show</td>\n",
       "      <td>Yunus Emre</td>\n",
       "      <td>Not Given</td>\n",
       "      <td>Turkey</td>\n",
       "      <td>1/17/2017</td>\n",
       "      <td>2016</td>\n",
       "      <td>TV-PG</td>\n",
       "      <td>2 Seasons</td>\n",
       "      <td>International TV Shows, TV Dramas</td>\n",
       "    </tr>\n",
       "    <tr>\n",
       "      <th>8786</th>\n",
       "      <td>s8798</td>\n",
       "      <td>TV Show</td>\n",
       "      <td>Zak Storm</td>\n",
       "      <td>Not Given</td>\n",
       "      <td>United States</td>\n",
       "      <td>9/13/2018</td>\n",
       "      <td>2016</td>\n",
       "      <td>TV-Y7</td>\n",
       "      <td>3 Seasons</td>\n",
       "      <td>Kids' TV</td>\n",
       "    </tr>\n",
       "    <tr>\n",
       "      <th>8787</th>\n",
       "      <td>s8801</td>\n",
       "      <td>TV Show</td>\n",
       "      <td>Zindagi Gulzar Hai</td>\n",
       "      <td>Not Given</td>\n",
       "      <td>Pakistan</td>\n",
       "      <td>12/15/2016</td>\n",
       "      <td>2012</td>\n",
       "      <td>TV-PG</td>\n",
       "      <td>1 Season</td>\n",
       "      <td>International TV Shows, Romantic TV Shows, TV ...</td>\n",
       "    </tr>\n",
       "    <tr>\n",
       "      <th>8788</th>\n",
       "      <td>s8784</td>\n",
       "      <td>TV Show</td>\n",
       "      <td>Yoko</td>\n",
       "      <td>Not Given</td>\n",
       "      <td>Pakistan</td>\n",
       "      <td>6/23/2018</td>\n",
       "      <td>2016</td>\n",
       "      <td>TV-Y</td>\n",
       "      <td>1 Season</td>\n",
       "      <td>Kids' TV</td>\n",
       "    </tr>\n",
       "    <tr>\n",
       "      <th>8789</th>\n",
       "      <td>s8786</td>\n",
       "      <td>TV Show</td>\n",
       "      <td>YOM</td>\n",
       "      <td>Not Given</td>\n",
       "      <td>Pakistan</td>\n",
       "      <td>6/7/2018</td>\n",
       "      <td>2016</td>\n",
       "      <td>TV-Y7</td>\n",
       "      <td>1 Season</td>\n",
       "      <td>Kids' TV</td>\n",
       "    </tr>\n",
       "  </tbody>\n",
       "</table>\n",
       "<p>8790 rows × 10 columns</p>\n",
       "</div>"
      ],
      "text/plain": [
       "     show_id     type                             title         director  \\\n",
       "0         s1    Movie              Dick Johnson Is Dead  Kirsten Johnson   \n",
       "1         s3  TV Show                         Ganglands  Julien Leclercq   \n",
       "2         s6  TV Show                     Midnight Mass    Mike Flanagan   \n",
       "3        s14    Movie  Confessions of an Invisible Girl    Bruno Garotti   \n",
       "4         s8    Movie                           Sankofa     Haile Gerima   \n",
       "...      ...      ...                               ...              ...   \n",
       "8785   s8797  TV Show                        Yunus Emre        Not Given   \n",
       "8786   s8798  TV Show                         Zak Storm        Not Given   \n",
       "8787   s8801  TV Show                Zindagi Gulzar Hai        Not Given   \n",
       "8788   s8784  TV Show                              Yoko        Not Given   \n",
       "8789   s8786  TV Show                               YOM        Not Given   \n",
       "\n",
       "            country  date_added  release_year rating   duration  \\\n",
       "0     United States   9/25/2021          2020  PG-13     90 min   \n",
       "1            France   9/24/2021          2021  TV-MA   1 Season   \n",
       "2     United States   9/24/2021          2021  TV-MA   1 Season   \n",
       "3            Brazil   9/22/2021          2021  TV-PG     91 min   \n",
       "4     United States   9/24/2021          1993  TV-MA    125 min   \n",
       "...             ...         ...           ...    ...        ...   \n",
       "8785         Turkey   1/17/2017          2016  TV-PG  2 Seasons   \n",
       "8786  United States   9/13/2018          2016  TV-Y7  3 Seasons   \n",
       "8787       Pakistan  12/15/2016          2012  TV-PG   1 Season   \n",
       "8788       Pakistan   6/23/2018          2016   TV-Y   1 Season   \n",
       "8789       Pakistan    6/7/2018          2016  TV-Y7   1 Season   \n",
       "\n",
       "                                              listed_in  \n",
       "0                                         Documentaries  \n",
       "1     Crime TV Shows, International TV Shows, TV Act...  \n",
       "2                    TV Dramas, TV Horror, TV Mysteries  \n",
       "3                    Children & Family Movies, Comedies  \n",
       "4      Dramas, Independent Movies, International Movies  \n",
       "...                                                 ...  \n",
       "8785                  International TV Shows, TV Dramas  \n",
       "8786                                           Kids' TV  \n",
       "8787  International TV Shows, Romantic TV Shows, TV ...  \n",
       "8788                                           Kids' TV  \n",
       "8789                                           Kids' TV  \n",
       "\n",
       "[8790 rows x 10 columns]"
      ]
     },
     "execution_count": 15,
     "metadata": {},
     "output_type": "execute_result"
    }
   ],
   "source": [
    "df = pd.read_csv('/Users/om-college/Library/CloudStorage/OneDrive-pdpu.ac.in/PDEU/ML/Lab1/netflix1.csv')\n",
    "df"
   ]
  },
  {
   "cell_type": "code",
   "execution_count": 16,
   "metadata": {},
   "outputs": [
    {
     "data": {
      "text/plain": [
       "Index(['show_id', 'type', 'title', 'director', 'country', 'date_added',\n",
       "       'release_year', 'rating', 'duration', 'listed_in'],\n",
       "      dtype='object')"
      ]
     },
     "execution_count": 16,
     "metadata": {},
     "output_type": "execute_result"
    }
   ],
   "source": [
    "df.columns"
   ]
  },
  {
   "cell_type": "code",
   "execution_count": 17,
   "metadata": {},
   "outputs": [
    {
     "data": {
      "text/plain": [
       "<bound method DataFrame.info of      show_id     type                             title         director  \\\n",
       "0         s1    Movie              Dick Johnson Is Dead  Kirsten Johnson   \n",
       "1         s3  TV Show                         Ganglands  Julien Leclercq   \n",
       "2         s6  TV Show                     Midnight Mass    Mike Flanagan   \n",
       "3        s14    Movie  Confessions of an Invisible Girl    Bruno Garotti   \n",
       "4         s8    Movie                           Sankofa     Haile Gerima   \n",
       "...      ...      ...                               ...              ...   \n",
       "8785   s8797  TV Show                        Yunus Emre        Not Given   \n",
       "8786   s8798  TV Show                         Zak Storm        Not Given   \n",
       "8787   s8801  TV Show                Zindagi Gulzar Hai        Not Given   \n",
       "8788   s8784  TV Show                              Yoko        Not Given   \n",
       "8789   s8786  TV Show                               YOM        Not Given   \n",
       "\n",
       "            country  date_added  release_year rating   duration  \\\n",
       "0     United States   9/25/2021          2020  PG-13     90 min   \n",
       "1            France   9/24/2021          2021  TV-MA   1 Season   \n",
       "2     United States   9/24/2021          2021  TV-MA   1 Season   \n",
       "3            Brazil   9/22/2021          2021  TV-PG     91 min   \n",
       "4     United States   9/24/2021          1993  TV-MA    125 min   \n",
       "...             ...         ...           ...    ...        ...   \n",
       "8785         Turkey   1/17/2017          2016  TV-PG  2 Seasons   \n",
       "8786  United States   9/13/2018          2016  TV-Y7  3 Seasons   \n",
       "8787       Pakistan  12/15/2016          2012  TV-PG   1 Season   \n",
       "8788       Pakistan   6/23/2018          2016   TV-Y   1 Season   \n",
       "8789       Pakistan    6/7/2018          2016  TV-Y7   1 Season   \n",
       "\n",
       "                                              listed_in  \n",
       "0                                         Documentaries  \n",
       "1     Crime TV Shows, International TV Shows, TV Act...  \n",
       "2                    TV Dramas, TV Horror, TV Mysteries  \n",
       "3                    Children & Family Movies, Comedies  \n",
       "4      Dramas, Independent Movies, International Movies  \n",
       "...                                                 ...  \n",
       "8785                  International TV Shows, TV Dramas  \n",
       "8786                                           Kids' TV  \n",
       "8787  International TV Shows, Romantic TV Shows, TV ...  \n",
       "8788                                           Kids' TV  \n",
       "8789                                           Kids' TV  \n",
       "\n",
       "[8790 rows x 10 columns]>"
      ]
     },
     "execution_count": 17,
     "metadata": {},
     "output_type": "execute_result"
    }
   ],
   "source": [
    "df.info"
   ]
  },
  {
   "cell_type": "code",
   "execution_count": 22,
   "metadata": {},
   "outputs": [
    {
     "data": {
      "text/plain": [
       "show_id         0\n",
       "type            0\n",
       "title           0\n",
       "director        0\n",
       "country         0\n",
       "date_added      0\n",
       "release_year    0\n",
       "rating          0\n",
       "duration        0\n",
       "listed_in       0\n",
       "dtype: int64"
      ]
     },
     "execution_count": 22,
     "metadata": {},
     "output_type": "execute_result"
    }
   ],
   "source": [
    "df.isnull().sum()\n"
   ]
  },
  {
   "cell_type": "code",
   "execution_count": 26,
   "metadata": {},
   "outputs": [
    {
     "name": "stdout",
     "output_type": "stream",
     "text": [
      "513 ['Documentaries'\n",
      " 'Crime TV Shows, International TV Shows, TV Action & Adventure'\n",
      " 'TV Dramas, TV Horror, TV Mysteries' 'Children & Family Movies, Comedies'\n",
      " 'Dramas, Independent Movies, International Movies'\n",
      " 'British TV Shows, Reality TV' 'Comedies, Dramas'\n",
      " 'Children & Family Movies, Comedies, Music & Musicals'\n",
      " 'Dramas, International Movies'\n",
      " 'Children & Family Movies, Music & Musicals'\n",
      " 'Dramas, International Movies, Music & Musicals' 'Movies' 'Comedies'\n",
      " 'Docuseries, Reality TV' 'British TV Shows, Crime TV Shows, Docuseries'\n",
      " 'Children & Family Movies' \"Kids' TV\"\n",
      " 'Documentaries, International Movies'\n",
      " 'Crime TV Shows, Docuseries, International TV Shows'\n",
      " 'Comedies, International Movies, Romantic Movies'\n",
      " 'Horror Movies, Sci-Fi & Fantasy' 'Thrillers'\n",
      " 'International TV Shows, Spanish-Language TV Shows, TV Action & Adventure'\n",
      " 'TV Comedies' 'International TV Shows, TV Dramas, TV Thrillers'\n",
      " 'Reality TV' \"Anime Series, Kids' TV\" \"Kids' TV, Korean TV Shows\"\n",
      " 'International TV Shows, Romantic TV Shows, TV Comedies'\n",
      " 'International TV Shows, TV Action & Adventure, TV Comedies'\n",
      " 'Crime TV Shows, International TV Shows, Spanish-Language TV Shows'\n",
      " \"Kids' TV, TV Comedies\" 'Docuseries'\n",
      " 'International TV Shows, TV Comedies'\n",
      " 'Comedies, International Movies, Music & Musicals'\n",
      " 'Comedies, International Movies'\n",
      " 'Dramas, International Movies, Thrillers'\n",
      " 'Action & Adventure, Dramas, International Movies'\n",
      " 'Action & Adventure, Dramas' 'Action & Adventure, Classic Movies, Dramas'\n",
      " 'Dramas, Horror Movies, Thrillers'\n",
      " 'Action & Adventure, Horror Movies, Thrillers' 'Action & Adventure'\n",
      " 'Dramas, Thrillers' 'Documentaries, Music & Musicals'\n",
      " 'International TV Shows, Spanish-Language TV Shows, TV Dramas'\n",
      " 'Action & Adventure, Anime Features, International Movies'\n",
      " 'Docuseries, International TV Shows' 'Reality TV, Teen TV Shows'\n",
      " 'International TV Shows, Reality TV'\n",
      " 'International TV Shows, TV Dramas, TV Mysteries'\n",
      " 'International TV Shows, TV Comedies, TV Dramas'\n",
      " 'International TV Shows, Spanish-Language TV Shows, TV Comedies'\n",
      " 'TV Comedies, TV Dramas'\n",
      " 'Crime TV Shows, International TV Shows, TV Dramas'\n",
      " 'TV Dramas, Teen TV Shows' 'Anime Series'\n",
      " 'Action & Adventure, Comedies, Dramas' 'International Movies, Thrillers'\n",
      " 'Anime Series, Stand-Up Comedy & Talk Shows'\n",
      " 'Sci-Fi & Fantasy, Thrillers'\n",
      " 'British TV Shows, International TV Shows, Reality TV'\n",
      " 'International TV Shows, Reality TV, Romantic TV Shows'\n",
      " 'Crime TV Shows, International TV Shows, Romantic TV Shows'\n",
      " 'International TV Shows, Romantic TV Shows, Spanish-Language TV Shows'\n",
      " 'Anime Series, International TV Shows' 'Documentaries, Sports Movies'\n",
      " 'Comedies, Dramas, International Movies'\n",
      " 'Dramas, International Movies, Romantic Movies' 'Dramas'\n",
      " 'Comedies, Romantic Movies'\n",
      " 'International TV Shows, Romantic TV Shows, TV Dramas'\n",
      " 'Docuseries, Science & Nature TV' 'International TV Shows, TV Dramas'\n",
      " 'Children & Family Movies, Dramas'\n",
      " 'Crime TV Shows, International TV Shows, TV Thrillers'\n",
      " 'Anime Features, Documentaries' 'International Movies, Music & Musicals'\n",
      " 'Docuseries, International TV Shows, Spanish-Language TV Shows'\n",
      " 'Dramas, Romantic Movies' 'Comedies, Dramas, Independent Movies'\n",
      " 'Action & Adventure, Classic Movies, Cult Movies'\n",
      " 'Action & Adventure, Sci-Fi & Fantasy' 'Reality TV, Romantic TV Shows'\n",
      " 'Crime TV Shows, Docuseries, TV Mysteries'\n",
      " \"Anime Series, Kids' TV, TV Action & Adventure\"\n",
      " 'Action & Adventure, Comedies' 'Classic Movies, Comedies, Dramas'\n",
      " 'Comedies, Cult Movies' 'Comedies, Cult Movies, Music & Musicals'\n",
      " 'Comedies, Music & Musicals' 'Action & Adventure, International Movies'\n",
      " 'Action & Adventure, Children & Family Movies, Cult Movies'\n",
      " 'Comedies, Dramas, Romantic Movies'\n",
      " 'Comedies, Cult Movies, Sci-Fi & Fantasy' 'Stand-Up Comedy'\n",
      " 'Classic Movies, Dramas'\n",
      " 'Action & Adventure, Children & Family Movies, Comedies'\n",
      " 'Crime TV Shows, TV Dramas, TV Mysteries' 'Dramas, Faith & Spirituality'\n",
      " 'Documentaries, LGBTQ Movies' 'Action & Adventure, Classic Movies'\n",
      " 'Documentaries, International Movies, Music & Musicals'\n",
      " 'Docuseries, TV Sci-Fi & Fantasy' 'Docuseries, Spanish-Language TV Shows'\n",
      " 'Dramas, Independent Movies'\n",
      " 'Action & Adventure, Comedies, International Movies'\n",
      " 'Action & Adventure, Horror Movies, International Movies'\n",
      " 'Comedies, International Movies, Sci-Fi & Fantasy'\n",
      " 'Action & Adventure, International Movies, Music & Musicals'\n",
      " 'Horror Movies, International Movies'\n",
      " 'International TV Shows, Korean TV Shows, Reality TV'\n",
      " 'Dramas, Independent Movies, Romantic Movies'\n",
      " 'International TV Shows, Korean TV Shows, Romantic TV Shows'\n",
      " 'Stand-Up Comedy & Talk Shows, TV Comedies'\n",
      " \"Kids' TV, Korean TV Shows, TV Comedies\"\n",
      " 'International TV Shows, Romantic TV Shows, TV Action & Adventure'\n",
      " 'Crime TV Shows, Docuseries' 'Horror Movies'\n",
      " 'Documentaries, LGBTQ Movies, Sports Movies'\n",
      " 'Action & Adventure, Anime Features'\n",
      " 'British TV Shows, Crime TV Shows, International TV Shows'\n",
      " 'Anime Series, Crime TV Shows, International TV Shows'\n",
      " 'International TV Shows, TV Action & Adventure, TV Sci-Fi & Fantasy'\n",
      " 'Horror Movies, International Movies, Thrillers'\n",
      " 'Comedies, Independent Movies'\n",
      " 'Classic Movies, Dramas, Independent Movies'\n",
      " 'Documentaries, International Movies, Sports Movies'\n",
      " 'International TV Shows, TV Dramas, TV Sci-Fi & Fantasy'\n",
      " 'Action & Adventure, Anime Features, Children & Family Movies'\n",
      " 'Docuseries, TV Comedies' 'TV Shows'\n",
      " 'Horror Movies, Independent Movies, International Movies'\n",
      " 'Comedies, Cult Movies, International Movies'\n",
      " 'Classic Movies, Dramas, International Movies'\n",
      " 'Docuseries, Stand-Up Comedy & Talk Shows' \"Crime TV Shows, Kids' TV\"\n",
      " 'Anime Series, International TV Shows, Romantic TV Shows'\n",
      " 'Reality TV, Science & Nature TV, TV Action & Adventure'\n",
      " \"Docuseries, Kids' TV, Science & Nature TV\"\n",
      " 'International TV Shows, Stand-Up Comedy & Talk Shows'\n",
      " 'International TV Shows, TV Dramas, TV Horror'\n",
      " 'International TV Shows, Korean TV Shows, TV Comedies'\n",
      " 'International TV Shows, Stand-Up Comedy & Talk Shows, TV Comedies'\n",
      " 'Children & Family Movies, Comedies, Sci-Fi & Fantasy'\n",
      " 'Action & Adventure, Horror Movies, Sci-Fi & Fantasy'\n",
      " 'Classic Movies, Comedies, Cult Movies'\n",
      " 'Action & Adventure, Sci-Fi & Fantasy, Thrillers'\n",
      " 'Children & Family Movies, Comedies, Dramas' 'Dramas, Sports Movies'\n",
      " 'Action & Adventure, Dramas, Sci-Fi & Fantasy'\n",
      " 'Action & Adventure, Comedies, Cult Movies'\n",
      " 'Dramas, Independent Movies, Thrillers'\n",
      " 'Children & Family Movies, Sports Movies'\n",
      " 'Crime TV Shows, TV Action & Adventure, TV Sci-Fi & Fantasy'\n",
      " 'International TV Shows'\n",
      " 'Action & Adventure, International Movies, Thrillers'\n",
      " 'British TV Shows, Docuseries, Science & Nature TV'\n",
      " 'Crime TV Shows, Spanish-Language TV Shows, TV Dramas'\n",
      " 'Anime Features, Children & Family Movies, International Movies'\n",
      " 'Action & Adventure, Dramas, Romantic Movies'\n",
      " 'International TV Shows, Reality TV, TV Action & Adventure'\n",
      " 'Horror Movies, LGBTQ Movies'\n",
      " 'Children & Family Movies, Comedies, Sports Movies'\n",
      " 'International Movies, Romantic Movies'\n",
      " 'Children & Family Movies, Dramas, International Movies'\n",
      " 'Comedies, Documentaries, International Movies'\n",
      " 'International Movies, Romantic Movies, Thrillers'\n",
      " 'Action & Adventure, Cult Movies, International Movies'\n",
      " 'Action & Adventure, Comedies, Sci-Fi & Fantasy'\n",
      " 'Action & Adventure, Thrillers'\n",
      " 'Dramas, Faith & Spirituality, International Movies'\n",
      " 'Action & Adventure, Classic Movies, Comedies'\n",
      " 'Action & Adventure, Comedies, Sports Movies'\n",
      " 'Action & Adventure, Children & Family Movies, Classic Movies'\n",
      " 'Action & Adventure, Children & Family Movies, Dramas'\n",
      " 'Horror Movies, Thrillers' 'Action & Adventure, Romantic Movies'\n",
      " 'Dramas, Romantic Movies, Sci-Fi & Fantasy'\n",
      " 'Dramas, Music & Musicals, Romantic Movies'\n",
      " 'International Movies, Music & Musicals, Romantic Movies'\n",
      " 'British TV Shows, Docuseries'\n",
      " 'Action & Adventure, Anime Features, Classic Movies'\n",
      " 'Anime Series, Crime TV Shows, TV Horror' 'Comedies, Horror Movies'\n",
      " 'Romantic TV Shows, TV Comedies, TV Dramas'\n",
      " 'Dramas, Faith & Spirituality, Romantic Movies'\n",
      " 'Dramas, Independent Movies, LGBTQ Movies'\n",
      " 'Comedies, Independent Movies, LGBTQ Movies'\n",
      " 'Action & Adventure, Cult Movies, Sci-Fi & Fantasy'\n",
      " 'Cult Movies, Horror Movies' 'Action & Adventure, Dramas, Sports Movies'\n",
      " 'Anime Series, Romantic TV Shows, Teen TV Shows'\n",
      " 'Dramas, International Movies, LGBTQ Movies'\n",
      " 'Dramas, Romantic Movies, Thrillers'\n",
      " 'International TV Shows, TV Action & Adventure, TV Dramas'\n",
      " 'Children & Family Movies, Dramas, Faith & Spirituality'\n",
      " 'Dramas, International Movies, Sports Movies'\n",
      " 'Action & Adventure, Horror Movies'\n",
      " 'Documentaries, International Movies, LGBTQ Movies'\n",
      " 'Dramas, Independent Movies, Sci-Fi & Fantasy'\n",
      " 'Comedies, Independent Movies, International Movies' 'TV Dramas'\n",
      " 'International TV Shows, TV Horror, TV Sci-Fi & Fantasy'\n",
      " 'Independent Movies, International Movies, Thrillers'\n",
      " 'Independent Movies, Thrillers' 'Documentaries, Dramas'\n",
      " 'Action & Adventure, Sports Movies'\n",
      " 'Dramas, International Movies, Sci-Fi & Fantasy'\n",
      " 'Comedies, Independent Movies, Romantic Movies'\n",
      " 'Horror Movies, Romantic Movies, Sci-Fi & Fantasy'\n",
      " 'Action & Adventure, Anime Features, Horror Movies'\n",
      " 'Cult Movies, Dramas, Music & Musicals'\n",
      " 'International TV Shows, TV Dramas, Teen TV Shows'\n",
      " 'Comedies, Horror Movies, International Movies'\n",
      " 'Comedies, International Movies, Sports Movies'\n",
      " 'Classic Movies, Music & Musicals'\n",
      " 'International TV Shows, Reality TV, Spanish-Language TV Shows'\n",
      " 'Children & Family Movies, Faith & Spirituality, Music & Musicals'\n",
      " 'International TV Shows, Korean TV Shows, Stand-Up Comedy & Talk Shows'\n",
      " 'Dramas, Music & Musicals' 'Horror Movies, Independent Movies'\n",
      " 'Comedies, Dramas, Music & Musicals'\n",
      " 'Classic & Cult TV, Crime TV Shows, International TV Shows'\n",
      " 'Comedies, LGBTQ Movies, Thrillers'\n",
      " 'Children & Family Movies, Sci-Fi & Fantasy'\n",
      " 'Comedies, International Movies, LGBTQ Movies' 'Dramas, Sci-Fi & Fantasy'\n",
      " 'British TV Shows, Romantic TV Shows, TV Dramas'\n",
      " 'Anime Series, International TV Shows, Spanish-Language TV Shows'\n",
      " 'Comedies, Romantic Movies, Sports Movies'\n",
      " 'Children & Family Movies, Dramas, Sports Movies'\n",
      " 'Action & Adventure, Dramas, Independent Movies' 'Dramas, LGBTQ Movies'\n",
      " 'Action & Adventure, Dramas, Faith & Spirituality'\n",
      " 'Action & Adventure, Comedies, Independent Movies' 'Music & Musicals'\n",
      " 'Dramas, Independent Movies, Sports Movies'\n",
      " 'Comedies, LGBTQ Movies, Music & Musicals'\n",
      " 'Comedies, International Movies, Thrillers'\n",
      " 'Children & Family Movies, Documentaries'\n",
      " 'Music & Musicals, Romantic Movies' 'Romantic Movies'\n",
      " 'Children & Family Movies, Classic Movies, Comedies'\n",
      " 'Dramas, LGBTQ Movies, Romantic Movies'\n",
      " 'Children & Family Movies, Comedies, Romantic Movies'\n",
      " 'Comedies, Sports Movies' 'International Movies'\n",
      " 'International TV Shows, Romantic TV Shows, TV Mysteries'\n",
      " 'Action & Adventure, International Movies, Romantic Movies'\n",
      " 'Cult Movies, Dramas, International Movies'\n",
      " 'Action & Adventure, Sci-Fi & Fantasy, Sports Movies'\n",
      " 'British TV Shows, International TV Shows, TV Dramas'\n",
      " 'Children & Family Movies, Documentaries, International Movies'\n",
      " 'Anime Features, International Movies'\n",
      " \"British TV Shows, Classic & Cult TV, Kids' TV\"\n",
      " 'International TV Shows, TV Horror, TV Mysteries'\n",
      " 'Documentaries, Faith & Spirituality, International Movies'\n",
      " 'LGBTQ Movies, Thrillers'\n",
      " 'Children & Family Movies, Dramas, Independent Movies'\n",
      " 'Comedies, Music & Musicals, Romantic Movies'\n",
      " 'Anime Features, Children & Family Movies'\n",
      " 'TV Action & Adventure, TV Sci-Fi & Fantasy'\n",
      " 'Action & Adventure, International Movies, Sci-Fi & Fantasy'\n",
      " 'Classic & Cult TV, TV Action & Adventure, TV Horror'\n",
      " 'International TV Shows, Korean TV Shows, TV Dramas'\n",
      " 'Action & Adventure, Comedies, Romantic Movies'\n",
      " 'Children & Family Movies, Comedies, International Movies'\n",
      " 'International Movies, Sci-Fi & Fantasy'\n",
      " 'International Movies, Sci-Fi & Fantasy, Thrillers'\n",
      " 'Children & Family Movies, Dramas, Romantic Movies'\n",
      " 'Comedies, Dramas, LGBTQ Movies'\n",
      " 'Children & Family Movies, Dramas, Music & Musicals'\n",
      " 'Action & Adventure, Independent Movies, International Movies'\n",
      " 'Action & Adventure, Children & Family Movies, Sci-Fi & Fantasy'\n",
      " 'Horror Movies, Independent Movies, Sci-Fi & Fantasy'\n",
      " 'Anime Features, International Movies, Sci-Fi & Fantasy'\n",
      " 'Dramas, Independent Movies, Music & Musicals'\n",
      " 'Children & Family Movies, Documentaries, Sports Movies'\n",
      " 'Independent Movies, Sci-Fi & Fantasy, Thrillers'\n",
      " 'Anime Features, Music & Musicals, Sci-Fi & Fantasy'\n",
      " 'International TV Shows, Korean TV Shows, TV Action & Adventure'\n",
      " 'Crime TV Shows, TV Action & Adventure'\n",
      " 'Comedies, Faith & Spirituality, Romantic Movies'\n",
      " \"Kids' TV, TV Action & Adventure\"\n",
      " 'Action & Adventure, Independent Movies'\n",
      " 'Crime TV Shows, Romantic TV Shows, TV Dramas'\n",
      " 'Anime Features, Romantic Movies'\n",
      " 'Horror Movies, Sci-Fi & Fantasy, Thrillers'\n",
      " 'International TV Shows, Spanish-Language TV Shows, Stand-Up Comedy & Talk Shows'\n",
      " 'Anime Features, Music & Musicals'\n",
      " 'Anime Features, International Movies, Romantic Movies'\n",
      " 'Horror Movies, Independent Movies, Thrillers'\n",
      " 'Documentaries, Stand-Up Comedy'\n",
      " 'Crime TV Shows, TV Action & Adventure, TV Dramas'\n",
      " 'Dramas, Sci-Fi & Fantasy, Thrillers'\n",
      " 'Children & Family Movies, Comedies, LGBTQ Movies'\n",
      " 'Horror Movies, International Movies, Romantic Movies'\n",
      " 'International Movies, Music & Musicals, Thrillers'\n",
      " 'Comedies, Horror Movies, Independent Movies'\n",
      " 'Action & Adventure, International Movies, Sports Movies'\n",
      " 'Comedies, Music & Musicals, Sports Movies'\n",
      " 'Action & Adventure, Independent Movies, Sci-Fi & Fantasy'\n",
      " 'Horror Movies, LGBTQ Movies, Music & Musicals'\n",
      " 'Romantic TV Shows, TV Comedies'\n",
      " 'International Movies, Romantic Movies, Sci-Fi & Fantasy'\n",
      " 'Music & Musicals, Stand-Up Comedy'\n",
      " 'British TV Shows, International TV Shows, TV Action & Adventure'\n",
      " 'Horror Movies, International Movies, Sci-Fi & Fantasy'\n",
      " 'Cult Movies, Horror Movies, Independent Movies'\n",
      " 'Comedies, Documentaries'\n",
      " 'Action & Adventure, Anime Features, Sci-Fi & Fantasy'\n",
      " 'Dramas, Faith & Spirituality, Independent Movies'\n",
      " 'Documentaries, Faith & Spirituality'\n",
      " 'British TV Shows, International TV Shows, Stand-Up Comedy & Talk Shows'\n",
      " 'Comedies, Dramas, Faith & Spirituality'\n",
      " 'Anime Series, International TV Shows, TV Horror'\n",
      " 'Dramas, Romantic Movies, Sports Movies'\n",
      " 'Comedies, Independent Movies, Music & Musicals'\n",
      " 'Stand-Up Comedy & Talk Shows'\n",
      " 'Crime TV Shows, International TV Shows, Korean TV Shows'\n",
      " 'Comedies, Cult Movies, Independent Movies'\n",
      " 'British TV Shows, TV Comedies'\n",
      " 'Documentaries, Dramas, International Movies'\n",
      " 'Children & Family Movies, Comedies, Cult Movies'\n",
      " 'TV Horror, TV Mysteries, TV Thrillers' 'Sci-Fi & Fantasy'\n",
      " 'Comedies, LGBTQ Movies' 'Comedies, Independent Movies, Thrillers'\n",
      " 'Classic Movies, Cult Movies, Dramas'\n",
      " 'Action & Adventure, Children & Family Movies, Independent Movies'\n",
      " 'Action & Adventure, Documentaries, International Movies'\n",
      " 'British TV Shows, Reality TV, Romantic TV Shows'\n",
      " 'Children & Family Movies, Independent Movies'\n",
      " 'Comedies, Cult Movies, Dramas' 'Classic Movies, Thrillers'\n",
      " 'Documentaries, LGBTQ Movies, Music & Musicals'\n",
      " 'Classic Movies, Dramas, Romantic Movies'\n",
      " 'Crime TV Shows, Romantic TV Shows, Spanish-Language TV Shows'\n",
      " 'Classic Movies, Cult Movies, Horror Movies'\n",
      " 'Children & Family Movies, Classic Movies'\n",
      " 'Classic Movies, Comedies, International Movies'\n",
      " 'Comedies, Sci-Fi & Fantasy' 'Action & Adventure, Cult Movies, Dramas'\n",
      " 'Documentaries, Faith & Spirituality, Music & Musicals'\n",
      " 'International Movies, Sports Movies'\n",
      " 'Children & Family Movies, Comedies, Faith & Spirituality'\n",
      " 'British TV Shows, Crime TV Shows, TV Dramas'\n",
      " 'Classic Movies, Dramas, Music & Musicals'\n",
      " 'Cult Movies, Horror Movies, Thrillers'\n",
      " 'Action & Adventure, Classic Movies, Sci-Fi & Fantasy'\n",
      " 'British TV Shows, Docuseries, International TV Shows'\n",
      " 'Classic Movies, Comedies, Music & Musicals' 'Independent Movies'\n",
      " 'Documentaries, Horror Movies'\n",
      " 'Comedies, Faith & Spirituality, International Movies'\n",
      " 'Dramas, Horror Movies, Sci-Fi & Fantasy'\n",
      " 'British TV Shows, TV Dramas, TV Sci-Fi & Fantasy'\n",
      " 'Comedies, Cult Movies, Horror Movies'\n",
      " 'Comedies, Cult Movies, Sports Movies' 'Classic Movies, Documentaries'\n",
      " 'Action & Adventure, Faith & Spirituality, Sci-Fi & Fantasy'\n",
      " 'Docuseries, Science & Nature TV, TV Dramas' 'Anime Features'\n",
      " 'Action & Adventure, Horror Movies, Independent Movies'\n",
      " 'Action & Adventure, Children & Family Movies'\n",
      " 'Action & Adventure, Classic Movies, International Movies'\n",
      " 'Cult Movies, Independent Movies, Thrillers'\n",
      " 'Classic Movies, Cult Movies, Documentaries'\n",
      " 'Classic Movies, Dramas, LGBTQ Movies'\n",
      " 'Classic Movies, Dramas, Sports Movies' 'Action & Adventure, Cult Movies'\n",
      " \"British TV Shows, Kids' TV\"\n",
      " 'Action & Adventure, Comedies, Music & Musicals'\n",
      " 'Classic Movies, Horror Movies, Thrillers'\n",
      " 'Classic Movies, Comedies, Independent Movies'\n",
      " 'Children & Family Movies, Classic Movies, Dramas'\n",
      " 'Dramas, Faith & Spirituality, Sports Movies'\n",
      " 'Classic Movies, Comedies, Romantic Movies'\n",
      " 'Dramas, Horror Movies, Music & Musicals'\n",
      " 'Docuseries, Reality TV, Teen TV Shows'\n",
      " 'Docuseries, International TV Shows, Science & Nature TV'\n",
      " 'Classic Movies, Independent Movies, Thrillers'\n",
      " 'Children & Family Movies, Faith & Spirituality'\n",
      " 'Classic Movies, Comedies, Sports Movies'\n",
      " 'Comedies, Dramas, Sports Movies'\n",
      " 'Action & Adventure, Romantic Movies, Sci-Fi & Fantasy'\n",
      " 'Comedies, Cult Movies, LGBTQ Movies'\n",
      " 'British TV Shows, Classic & Cult TV, TV Comedies'\n",
      " 'Comedies, Horror Movies, Sci-Fi & Fantasy'\n",
      " 'Action & Adventure, Comedies, Horror Movies'\n",
      " 'Action & Adventure, Documentaries, Sports Movies'\n",
      " 'International Movies, LGBTQ Movies, Romantic Movies'\n",
      " 'Cult Movies, Dramas, Thrillers'\n",
      " 'Docuseries, International TV Shows, Reality TV'\n",
      " 'British TV Shows, International TV Shows, TV Comedies'\n",
      " \"Kids' TV, TV Sci-Fi & Fantasy\" 'Crime TV Shows, TV Comedies, TV Dramas'\n",
      " \"Kids' TV, TV Comedies, TV Sci-Fi & Fantasy\"\n",
      " \"Kids' TV, TV Dramas, Teen TV Shows\"\n",
      " 'Crime TV Shows, TV Action & Adventure, TV Comedies'\n",
      " 'Anime Series, International TV Shows, Teen TV Shows'\n",
      " 'TV Dramas, TV Mysteries, TV Sci-Fi & Fantasy'\n",
      " 'TV Action & Adventure, TV Dramas, TV Mysteries'\n",
      " 'TV Dramas, TV Sci-Fi & Fantasy'\n",
      " 'TV Action & Adventure, TV Dramas, Teen TV Shows'\n",
      " 'Crime TV Shows, International TV Shows, TV Comedies'\n",
      " 'Classic & Cult TV, TV Action & Adventure, TV Dramas'\n",
      " 'Anime Series, International TV Shows, TV Thrillers'\n",
      " 'TV Comedies, TV Dramas, Teen TV Shows' 'Romantic TV Shows, TV Dramas'\n",
      " 'Anime Series, TV Horror, TV Thrillers'\n",
      " 'TV Action & Adventure, TV Dramas, TV Sci-Fi & Fantasy'\n",
      " 'Crime TV Shows, TV Horror, TV Mysteries'\n",
      " \"Kids' TV, TV Action & Adventure, TV Sci-Fi & Fantasy\"\n",
      " \"International TV Shows, Kids' TV, TV Mysteries\"\n",
      " 'Reality TV, TV Action & Adventure, TV Mysteries'\n",
      " 'Crime TV Shows, TV Dramas' 'Crime TV Shows, TV Dramas, TV Thrillers'\n",
      " 'TV Action & Adventure, TV Dramas, TV Horror'\n",
      " 'Reality TV, TV Horror, TV Thrillers'\n",
      " 'TV Action & Adventure, TV Horror, TV Sci-Fi & Fantasy'\n",
      " 'TV Dramas, TV Thrillers' 'Reality TV, TV Comedies, TV Horror'\n",
      " 'Docuseries, Science & Nature TV, TV Action & Adventure'\n",
      " \"British TV Shows, Kids' TV, TV Dramas\" 'TV Horror, Teen TV Shows'\n",
      " 'Docuseries, Reality TV, Science & Nature TV'\n",
      " 'Crime TV Shows, Spanish-Language TV Shows, TV Action & Adventure'\n",
      " 'Romantic TV Shows, Teen TV Shows' 'TV Comedies, Teen TV Shows'\n",
      " 'Romantic TV Shows, TV Dramas, Teen TV Shows'\n",
      " 'Romantic TV Shows, TV Action & Adventure, TV Dramas'\n",
      " \"Kids' TV, TV Thrillers\"\n",
      " 'TV Action & Adventure, TV Comedies, TV Sci-Fi & Fantasy'\n",
      " 'TV Action & Adventure, TV Comedies, TV Dramas'\n",
      " 'Spanish-Language TV Shows, TV Dramas'\n",
      " 'TV Horror, TV Mysteries, TV Sci-Fi & Fantasy'\n",
      " 'International TV Shows, TV Mysteries, TV Thrillers'\n",
      " 'British TV Shows, Classic & Cult TV, International TV Shows'\n",
      " \"British TV Shows, Kids' TV, TV Comedies\"\n",
      " 'TV Dramas, TV Mysteries, TV Thrillers'\n",
      " 'International TV Shows, TV Action & Adventure, TV Mysteries'\n",
      " \"Kids' TV, TV Comedies, Teen TV Shows\"\n",
      " 'Classic & Cult TV, TV Action & Adventure, TV Sci-Fi & Fantasy'\n",
      " 'TV Action & Adventure, TV Dramas' 'Reality TV, TV Comedies'\n",
      " \"Kids' TV, TV Dramas\"\n",
      " 'Crime TV Shows, International TV Shows, TV Mysteries'\n",
      " 'TV Dramas, TV Sci-Fi & Fantasy, TV Thrillers'\n",
      " 'Romantic TV Shows, TV Dramas, TV Sci-Fi & Fantasy'\n",
      " \"Kids' TV, Reality TV, TV Dramas\"\n",
      " 'TV Action & Adventure, TV Mysteries, TV Sci-Fi & Fantasy'\n",
      " 'Reality TV, Science & Nature TV'\n",
      " \"Kids' TV, TV Action & Adventure, TV Comedies\"\n",
      " 'Classic & Cult TV, TV Dramas, TV Sci-Fi & Fantasy'\n",
      " 'International TV Shows, TV Action & Adventure, TV Horror'\n",
      " \"Classic & Cult TV, Kids' TV, TV Action & Adventure\"\n",
      " 'International TV Shows, Korean TV Shows, TV Horror'\n",
      " 'Anime Series, Romantic TV Shows'\n",
      " 'Docuseries, Science & Nature TV, TV Comedies'\n",
      " 'TV Dramas, TV Sci-Fi & Fantasy, Teen TV Shows'\n",
      " \"Kids' TV, TV Comedies, TV Dramas\"\n",
      " 'TV Comedies, TV Dramas, TV Sci-Fi & Fantasy'\n",
      " 'International TV Shows, Reality TV, TV Comedies'\n",
      " 'Crime TV Shows, International TV Shows, Reality TV'\n",
      " 'Anime Series, Teen TV Shows'\n",
      " 'International TV Shows, TV Comedies, TV Sci-Fi & Fantasy'\n",
      " 'International TV Shows, Romantic TV Shows'\n",
      " 'International TV Shows, Romantic TV Shows, Teen TV Shows'\n",
      " 'TV Action & Adventure, TV Comedies, TV Horror'\n",
      " \"Kids' TV, Spanish-Language TV Shows\"\n",
      " \"British TV Shows, Kids' TV, TV Thrillers\"\n",
      " \"Kids' TV, TV Action & Adventure, TV Dramas\"\n",
      " 'Anime Series, Crime TV Shows' 'TV Comedies, TV Dramas, TV Horror'\n",
      " 'Docuseries, TV Dramas' 'Crime TV Shows, Docuseries, Science & Nature TV'\n",
      " \"Kids' TV, Spanish-Language TV Shows, Teen TV Shows\"\n",
      " 'TV Horror, TV Mysteries, Teen TV Shows'\n",
      " \"Kids' TV, Reality TV, Science & Nature TV\"\n",
      " 'TV Comedies, TV Horror, TV Thrillers' 'TV Action & Adventure'\n",
      " 'International TV Shows, Spanish-Language TV Shows, TV Horror'\n",
      " 'Crime TV Shows, TV Action & Adventure, TV Thrillers'\n",
      " 'TV Comedies, TV Sci-Fi & Fantasy, Teen TV Shows'\n",
      " 'TV Comedies, TV Sci-Fi & Fantasy'\n",
      " 'Romantic TV Shows, Spanish-Language TV Shows, TV Comedies'\n",
      " 'Crime TV Shows, International TV Shows, TV Sci-Fi & Fantasy'\n",
      " 'British TV Shows, International TV Shows, Romantic TV Shows'\n",
      " 'TV Comedies, TV Mysteries' 'British TV Shows, Docuseries, TV Comedies'\n",
      " 'TV Comedies, TV Dramas, TV Mysteries'\n",
      " 'Crime TV Shows, TV Comedies, Teen TV Shows'\n",
      " 'Reality TV, Spanish-Language TV Shows'\n",
      " \"Crime TV Shows, Kids' TV, TV Comedies\" 'Classic & Cult TV, TV Comedies'\n",
      " 'Stand-Up Comedy & Talk Shows, TV Mysteries, TV Sci-Fi & Fantasy'\n",
      " 'TV Sci-Fi & Fantasy, TV Thrillers'\n",
      " 'British TV Shows, TV Horror, TV Thrillers' 'Sports Movies'\n",
      " 'International TV Shows, TV Horror, TV Thrillers'\n",
      " 'Crime TV Shows, TV Dramas, TV Horror'\n",
      " 'British TV Shows, Docuseries, Reality TV'\n",
      " 'Anime Series, Crime TV Shows, TV Thrillers'\n",
      " \"Classic & Cult TV, Kids' TV, Spanish-Language TV Shows\"\n",
      " 'Romantic TV Shows, Spanish-Language TV Shows, TV Dramas'\n",
      " 'TV Action & Adventure, TV Comedies'\n",
      " 'Classic & Cult TV, TV Horror, TV Mysteries'\n",
      " 'Crime TV Shows, TV Comedies' \"Classic & Cult TV, Kids' TV, TV Comedies\"\n",
      " 'Classic & Cult TV, TV Sci-Fi & Fantasy'\n",
      " 'Classic & Cult TV, Crime TV Shows, TV Dramas']\n"
     ]
    }
   ],
   "source": [
    "category = df['listed_in'].unique()\n",
    "print(len(category),category)"
   ]
  },
  {
   "cell_type": "code",
   "execution_count": 30,
   "metadata": {},
   "outputs": [
    {
     "data": {
      "text/html": [
       "<div>\n",
       "<style scoped>\n",
       "    .dataframe tbody tr th:only-of-type {\n",
       "        vertical-align: middle;\n",
       "    }\n",
       "\n",
       "    .dataframe tbody tr th {\n",
       "        vertical-align: top;\n",
       "    }\n",
       "\n",
       "    .dataframe thead th {\n",
       "        text-align: right;\n",
       "    }\n",
       "</style>\n",
       "<table border=\"1\" class=\"dataframe\">\n",
       "  <thead>\n",
       "    <tr style=\"text-align: right;\">\n",
       "      <th></th>\n",
       "      <th>type</th>\n",
       "      <th>title</th>\n",
       "      <th>director</th>\n",
       "      <th>country</th>\n",
       "      <th>date_added</th>\n",
       "      <th>release_year</th>\n",
       "      <th>rating</th>\n",
       "      <th>duration</th>\n",
       "      <th>listed_in</th>\n",
       "    </tr>\n",
       "  </thead>\n",
       "  <tbody>\n",
       "    <tr>\n",
       "      <th>0</th>\n",
       "      <td>Movie</td>\n",
       "      <td>Dick Johnson Is Dead</td>\n",
       "      <td>Kirsten Johnson</td>\n",
       "      <td>United States</td>\n",
       "      <td>9/25/2021</td>\n",
       "      <td>2020</td>\n",
       "      <td>PG-13</td>\n",
       "      <td>90 min</td>\n",
       "      <td>Documentaries</td>\n",
       "    </tr>\n",
       "    <tr>\n",
       "      <th>1</th>\n",
       "      <td>TV Show</td>\n",
       "      <td>Ganglands</td>\n",
       "      <td>Julien Leclercq</td>\n",
       "      <td>France</td>\n",
       "      <td>9/24/2021</td>\n",
       "      <td>2021</td>\n",
       "      <td>TV-MA</td>\n",
       "      <td>1 Season</td>\n",
       "      <td>Crime TV Shows, International TV Shows, TV Act...</td>\n",
       "    </tr>\n",
       "    <tr>\n",
       "      <th>2</th>\n",
       "      <td>TV Show</td>\n",
       "      <td>Midnight Mass</td>\n",
       "      <td>Mike Flanagan</td>\n",
       "      <td>United States</td>\n",
       "      <td>9/24/2021</td>\n",
       "      <td>2021</td>\n",
       "      <td>TV-MA</td>\n",
       "      <td>1 Season</td>\n",
       "      <td>TV Dramas, TV Horror, TV Mysteries</td>\n",
       "    </tr>\n",
       "    <tr>\n",
       "      <th>3</th>\n",
       "      <td>Movie</td>\n",
       "      <td>Confessions of an Invisible Girl</td>\n",
       "      <td>Bruno Garotti</td>\n",
       "      <td>Brazil</td>\n",
       "      <td>9/22/2021</td>\n",
       "      <td>2021</td>\n",
       "      <td>TV-PG</td>\n",
       "      <td>91 min</td>\n",
       "      <td>Children &amp; Family Movies, Comedies</td>\n",
       "    </tr>\n",
       "    <tr>\n",
       "      <th>4</th>\n",
       "      <td>Movie</td>\n",
       "      <td>Sankofa</td>\n",
       "      <td>Haile Gerima</td>\n",
       "      <td>United States</td>\n",
       "      <td>9/24/2021</td>\n",
       "      <td>1993</td>\n",
       "      <td>TV-MA</td>\n",
       "      <td>125 min</td>\n",
       "      <td>Dramas, Independent Movies, International Movies</td>\n",
       "    </tr>\n",
       "  </tbody>\n",
       "</table>\n",
       "</div>"
      ],
      "text/plain": [
       "      type                             title         director        country  \\\n",
       "0    Movie              Dick Johnson Is Dead  Kirsten Johnson  United States   \n",
       "1  TV Show                         Ganglands  Julien Leclercq         France   \n",
       "2  TV Show                     Midnight Mass    Mike Flanagan  United States   \n",
       "3    Movie  Confessions of an Invisible Girl    Bruno Garotti         Brazil   \n",
       "4    Movie                           Sankofa     Haile Gerima  United States   \n",
       "\n",
       "  date_added  release_year rating  duration  \\\n",
       "0  9/25/2021          2020  PG-13    90 min   \n",
       "1  9/24/2021          2021  TV-MA  1 Season   \n",
       "2  9/24/2021          2021  TV-MA  1 Season   \n",
       "3  9/22/2021          2021  TV-PG    91 min   \n",
       "4  9/24/2021          1993  TV-MA   125 min   \n",
       "\n",
       "                                           listed_in  \n",
       "0                                      Documentaries  \n",
       "1  Crime TV Shows, International TV Shows, TV Act...  \n",
       "2                 TV Dramas, TV Horror, TV Mysteries  \n",
       "3                 Children & Family Movies, Comedies  \n",
       "4   Dramas, Independent Movies, International Movies  "
      ]
     },
     "execution_count": 30,
     "metadata": {},
     "output_type": "execute_result"
    }
   ],
   "source": [
    "df1 = df.drop(columns='show_id')\n",
    "df1.head()"
   ]
  },
  {
   "cell_type": "code",
   "execution_count": 33,
   "metadata": {},
   "outputs": [
    {
     "data": {
      "text/html": [
       "<div>\n",
       "<style scoped>\n",
       "    .dataframe tbody tr th:only-of-type {\n",
       "        vertical-align: middle;\n",
       "    }\n",
       "\n",
       "    .dataframe tbody tr th {\n",
       "        vertical-align: top;\n",
       "    }\n",
       "\n",
       "    .dataframe thead th {\n",
       "        text-align: right;\n",
       "    }\n",
       "</style>\n",
       "<table border=\"1\" class=\"dataframe\">\n",
       "  <thead>\n",
       "    <tr style=\"text-align: right;\">\n",
       "      <th></th>\n",
       "      <th>type</th>\n",
       "      <th>title</th>\n",
       "      <th>director</th>\n",
       "      <th>country</th>\n",
       "      <th>date_added</th>\n",
       "      <th>release_year</th>\n",
       "      <th>rating</th>\n",
       "      <th>duration</th>\n",
       "      <th>listed_in</th>\n",
       "    </tr>\n",
       "  </thead>\n",
       "  <tbody>\n",
       "    <tr>\n",
       "      <th>0</th>\n",
       "      <td>Movie</td>\n",
       "      <td>Dick Johnson Is Dead</td>\n",
       "      <td>Kirsten Johnson</td>\n",
       "      <td>United States</td>\n",
       "      <td>2021-09-25</td>\n",
       "      <td>2020</td>\n",
       "      <td>PG-13</td>\n",
       "      <td>90 min</td>\n",
       "      <td>Documentaries</td>\n",
       "    </tr>\n",
       "    <tr>\n",
       "      <th>1</th>\n",
       "      <td>TV Show</td>\n",
       "      <td>Ganglands</td>\n",
       "      <td>Julien Leclercq</td>\n",
       "      <td>France</td>\n",
       "      <td>2021-09-24</td>\n",
       "      <td>2021</td>\n",
       "      <td>TV-MA</td>\n",
       "      <td>1 Season</td>\n",
       "      <td>Crime TV Shows, International TV Shows, TV Act...</td>\n",
       "    </tr>\n",
       "    <tr>\n",
       "      <th>2</th>\n",
       "      <td>TV Show</td>\n",
       "      <td>Midnight Mass</td>\n",
       "      <td>Mike Flanagan</td>\n",
       "      <td>United States</td>\n",
       "      <td>2021-09-24</td>\n",
       "      <td>2021</td>\n",
       "      <td>TV-MA</td>\n",
       "      <td>1 Season</td>\n",
       "      <td>TV Dramas, TV Horror, TV Mysteries</td>\n",
       "    </tr>\n",
       "    <tr>\n",
       "      <th>3</th>\n",
       "      <td>Movie</td>\n",
       "      <td>Confessions of an Invisible Girl</td>\n",
       "      <td>Bruno Garotti</td>\n",
       "      <td>Brazil</td>\n",
       "      <td>2021-09-22</td>\n",
       "      <td>2021</td>\n",
       "      <td>TV-PG</td>\n",
       "      <td>91 min</td>\n",
       "      <td>Children &amp; Family Movies, Comedies</td>\n",
       "    </tr>\n",
       "    <tr>\n",
       "      <th>4</th>\n",
       "      <td>Movie</td>\n",
       "      <td>Sankofa</td>\n",
       "      <td>Haile Gerima</td>\n",
       "      <td>United States</td>\n",
       "      <td>2021-09-24</td>\n",
       "      <td>1993</td>\n",
       "      <td>TV-MA</td>\n",
       "      <td>125 min</td>\n",
       "      <td>Dramas, Independent Movies, International Movies</td>\n",
       "    </tr>\n",
       "    <tr>\n",
       "      <th>...</th>\n",
       "      <td>...</td>\n",
       "      <td>...</td>\n",
       "      <td>...</td>\n",
       "      <td>...</td>\n",
       "      <td>...</td>\n",
       "      <td>...</td>\n",
       "      <td>...</td>\n",
       "      <td>...</td>\n",
       "      <td>...</td>\n",
       "    </tr>\n",
       "    <tr>\n",
       "      <th>8785</th>\n",
       "      <td>TV Show</td>\n",
       "      <td>Yunus Emre</td>\n",
       "      <td>Not Given</td>\n",
       "      <td>Turkey</td>\n",
       "      <td>2017-01-17</td>\n",
       "      <td>2016</td>\n",
       "      <td>TV-PG</td>\n",
       "      <td>2 Seasons</td>\n",
       "      <td>International TV Shows, TV Dramas</td>\n",
       "    </tr>\n",
       "    <tr>\n",
       "      <th>8786</th>\n",
       "      <td>TV Show</td>\n",
       "      <td>Zak Storm</td>\n",
       "      <td>Not Given</td>\n",
       "      <td>United States</td>\n",
       "      <td>2018-09-13</td>\n",
       "      <td>2016</td>\n",
       "      <td>TV-Y7</td>\n",
       "      <td>3 Seasons</td>\n",
       "      <td>Kids' TV</td>\n",
       "    </tr>\n",
       "    <tr>\n",
       "      <th>8787</th>\n",
       "      <td>TV Show</td>\n",
       "      <td>Zindagi Gulzar Hai</td>\n",
       "      <td>Not Given</td>\n",
       "      <td>Pakistan</td>\n",
       "      <td>2016-12-15</td>\n",
       "      <td>2012</td>\n",
       "      <td>TV-PG</td>\n",
       "      <td>1 Season</td>\n",
       "      <td>International TV Shows, Romantic TV Shows, TV ...</td>\n",
       "    </tr>\n",
       "    <tr>\n",
       "      <th>8788</th>\n",
       "      <td>TV Show</td>\n",
       "      <td>Yoko</td>\n",
       "      <td>Not Given</td>\n",
       "      <td>Pakistan</td>\n",
       "      <td>2018-06-23</td>\n",
       "      <td>2016</td>\n",
       "      <td>TV-Y</td>\n",
       "      <td>1 Season</td>\n",
       "      <td>Kids' TV</td>\n",
       "    </tr>\n",
       "    <tr>\n",
       "      <th>8789</th>\n",
       "      <td>TV Show</td>\n",
       "      <td>YOM</td>\n",
       "      <td>Not Given</td>\n",
       "      <td>Pakistan</td>\n",
       "      <td>2018-06-07</td>\n",
       "      <td>2016</td>\n",
       "      <td>TV-Y7</td>\n",
       "      <td>1 Season</td>\n",
       "      <td>Kids' TV</td>\n",
       "    </tr>\n",
       "  </tbody>\n",
       "</table>\n",
       "<p>8790 rows × 9 columns</p>\n",
       "</div>"
      ],
      "text/plain": [
       "         type                             title         director  \\\n",
       "0       Movie              Dick Johnson Is Dead  Kirsten Johnson   \n",
       "1     TV Show                         Ganglands  Julien Leclercq   \n",
       "2     TV Show                     Midnight Mass    Mike Flanagan   \n",
       "3       Movie  Confessions of an Invisible Girl    Bruno Garotti   \n",
       "4       Movie                           Sankofa     Haile Gerima   \n",
       "...       ...                               ...              ...   \n",
       "8785  TV Show                        Yunus Emre        Not Given   \n",
       "8786  TV Show                         Zak Storm        Not Given   \n",
       "8787  TV Show                Zindagi Gulzar Hai        Not Given   \n",
       "8788  TV Show                              Yoko        Not Given   \n",
       "8789  TV Show                               YOM        Not Given   \n",
       "\n",
       "            country date_added  release_year rating   duration  \\\n",
       "0     United States 2021-09-25          2020  PG-13     90 min   \n",
       "1            France 2021-09-24          2021  TV-MA   1 Season   \n",
       "2     United States 2021-09-24          2021  TV-MA   1 Season   \n",
       "3            Brazil 2021-09-22          2021  TV-PG     91 min   \n",
       "4     United States 2021-09-24          1993  TV-MA    125 min   \n",
       "...             ...        ...           ...    ...        ...   \n",
       "8785         Turkey 2017-01-17          2016  TV-PG  2 Seasons   \n",
       "8786  United States 2018-09-13          2016  TV-Y7  3 Seasons   \n",
       "8787       Pakistan 2016-12-15          2012  TV-PG   1 Season   \n",
       "8788       Pakistan 2018-06-23          2016   TV-Y   1 Season   \n",
       "8789       Pakistan 2018-06-07          2016  TV-Y7   1 Season   \n",
       "\n",
       "                                              listed_in  \n",
       "0                                         Documentaries  \n",
       "1     Crime TV Shows, International TV Shows, TV Act...  \n",
       "2                    TV Dramas, TV Horror, TV Mysteries  \n",
       "3                    Children & Family Movies, Comedies  \n",
       "4      Dramas, Independent Movies, International Movies  \n",
       "...                                                 ...  \n",
       "8785                  International TV Shows, TV Dramas  \n",
       "8786                                           Kids' TV  \n",
       "8787  International TV Shows, Romantic TV Shows, TV ...  \n",
       "8788                                           Kids' TV  \n",
       "8789                                           Kids' TV  \n",
       "\n",
       "[8790 rows x 9 columns]"
      ]
     },
     "execution_count": 33,
     "metadata": {},
     "output_type": "execute_result"
    }
   ],
   "source": [
    "df1['date_added'] = pd.to_datetime(df1['date_added'])\n",
    "df1"
   ]
  },
  {
   "cell_type": "code",
   "execution_count": 35,
   "metadata": {},
   "outputs": [
    {
     "data": {
      "text/html": [
       "<div>\n",
       "<style scoped>\n",
       "    .dataframe tbody tr th:only-of-type {\n",
       "        vertical-align: middle;\n",
       "    }\n",
       "\n",
       "    .dataframe tbody tr th {\n",
       "        vertical-align: top;\n",
       "    }\n",
       "\n",
       "    .dataframe thead th {\n",
       "        text-align: right;\n",
       "    }\n",
       "</style>\n",
       "<table border=\"1\" class=\"dataframe\">\n",
       "  <thead>\n",
       "    <tr style=\"text-align: right;\">\n",
       "      <th></th>\n",
       "      <th>type</th>\n",
       "      <th>title</th>\n",
       "      <th>director</th>\n",
       "      <th>country</th>\n",
       "      <th>date_added</th>\n",
       "      <th>release_year</th>\n",
       "      <th>rating</th>\n",
       "      <th>duration</th>\n",
       "      <th>listed_in</th>\n",
       "      <th>year_added</th>\n",
       "    </tr>\n",
       "  </thead>\n",
       "  <tbody>\n",
       "    <tr>\n",
       "      <th>0</th>\n",
       "      <td>Movie</td>\n",
       "      <td>Dick Johnson Is Dead</td>\n",
       "      <td>Kirsten Johnson</td>\n",
       "      <td>United States</td>\n",
       "      <td>2021-09-25</td>\n",
       "      <td>2020</td>\n",
       "      <td>PG-13</td>\n",
       "      <td>90 min</td>\n",
       "      <td>Documentaries</td>\n",
       "      <td>2021</td>\n",
       "    </tr>\n",
       "    <tr>\n",
       "      <th>1</th>\n",
       "      <td>TV Show</td>\n",
       "      <td>Ganglands</td>\n",
       "      <td>Julien Leclercq</td>\n",
       "      <td>France</td>\n",
       "      <td>2021-09-24</td>\n",
       "      <td>2021</td>\n",
       "      <td>TV-MA</td>\n",
       "      <td>1 Season</td>\n",
       "      <td>Crime TV Shows, International TV Shows, TV Act...</td>\n",
       "      <td>2021</td>\n",
       "    </tr>\n",
       "    <tr>\n",
       "      <th>2</th>\n",
       "      <td>TV Show</td>\n",
       "      <td>Midnight Mass</td>\n",
       "      <td>Mike Flanagan</td>\n",
       "      <td>United States</td>\n",
       "      <td>2021-09-24</td>\n",
       "      <td>2021</td>\n",
       "      <td>TV-MA</td>\n",
       "      <td>1 Season</td>\n",
       "      <td>TV Dramas, TV Horror, TV Mysteries</td>\n",
       "      <td>2021</td>\n",
       "    </tr>\n",
       "    <tr>\n",
       "      <th>3</th>\n",
       "      <td>Movie</td>\n",
       "      <td>Confessions of an Invisible Girl</td>\n",
       "      <td>Bruno Garotti</td>\n",
       "      <td>Brazil</td>\n",
       "      <td>2021-09-22</td>\n",
       "      <td>2021</td>\n",
       "      <td>TV-PG</td>\n",
       "      <td>91 min</td>\n",
       "      <td>Children &amp; Family Movies, Comedies</td>\n",
       "      <td>2021</td>\n",
       "    </tr>\n",
       "    <tr>\n",
       "      <th>4</th>\n",
       "      <td>Movie</td>\n",
       "      <td>Sankofa</td>\n",
       "      <td>Haile Gerima</td>\n",
       "      <td>United States</td>\n",
       "      <td>2021-09-24</td>\n",
       "      <td>1993</td>\n",
       "      <td>TV-MA</td>\n",
       "      <td>125 min</td>\n",
       "      <td>Dramas, Independent Movies, International Movies</td>\n",
       "      <td>2021</td>\n",
       "    </tr>\n",
       "    <tr>\n",
       "      <th>...</th>\n",
       "      <td>...</td>\n",
       "      <td>...</td>\n",
       "      <td>...</td>\n",
       "      <td>...</td>\n",
       "      <td>...</td>\n",
       "      <td>...</td>\n",
       "      <td>...</td>\n",
       "      <td>...</td>\n",
       "      <td>...</td>\n",
       "      <td>...</td>\n",
       "    </tr>\n",
       "    <tr>\n",
       "      <th>8785</th>\n",
       "      <td>TV Show</td>\n",
       "      <td>Yunus Emre</td>\n",
       "      <td>Not Given</td>\n",
       "      <td>Turkey</td>\n",
       "      <td>2017-01-17</td>\n",
       "      <td>2016</td>\n",
       "      <td>TV-PG</td>\n",
       "      <td>2 Seasons</td>\n",
       "      <td>International TV Shows, TV Dramas</td>\n",
       "      <td>2017</td>\n",
       "    </tr>\n",
       "    <tr>\n",
       "      <th>8786</th>\n",
       "      <td>TV Show</td>\n",
       "      <td>Zak Storm</td>\n",
       "      <td>Not Given</td>\n",
       "      <td>United States</td>\n",
       "      <td>2018-09-13</td>\n",
       "      <td>2016</td>\n",
       "      <td>TV-Y7</td>\n",
       "      <td>3 Seasons</td>\n",
       "      <td>Kids' TV</td>\n",
       "      <td>2018</td>\n",
       "    </tr>\n",
       "    <tr>\n",
       "      <th>8787</th>\n",
       "      <td>TV Show</td>\n",
       "      <td>Zindagi Gulzar Hai</td>\n",
       "      <td>Not Given</td>\n",
       "      <td>Pakistan</td>\n",
       "      <td>2016-12-15</td>\n",
       "      <td>2012</td>\n",
       "      <td>TV-PG</td>\n",
       "      <td>1 Season</td>\n",
       "      <td>International TV Shows, Romantic TV Shows, TV ...</td>\n",
       "      <td>2016</td>\n",
       "    </tr>\n",
       "    <tr>\n",
       "      <th>8788</th>\n",
       "      <td>TV Show</td>\n",
       "      <td>Yoko</td>\n",
       "      <td>Not Given</td>\n",
       "      <td>Pakistan</td>\n",
       "      <td>2018-06-23</td>\n",
       "      <td>2016</td>\n",
       "      <td>TV-Y</td>\n",
       "      <td>1 Season</td>\n",
       "      <td>Kids' TV</td>\n",
       "      <td>2018</td>\n",
       "    </tr>\n",
       "    <tr>\n",
       "      <th>8789</th>\n",
       "      <td>TV Show</td>\n",
       "      <td>YOM</td>\n",
       "      <td>Not Given</td>\n",
       "      <td>Pakistan</td>\n",
       "      <td>2018-06-07</td>\n",
       "      <td>2016</td>\n",
       "      <td>TV-Y7</td>\n",
       "      <td>1 Season</td>\n",
       "      <td>Kids' TV</td>\n",
       "      <td>2018</td>\n",
       "    </tr>\n",
       "  </tbody>\n",
       "</table>\n",
       "<p>8790 rows × 10 columns</p>\n",
       "</div>"
      ],
      "text/plain": [
       "         type                             title         director  \\\n",
       "0       Movie              Dick Johnson Is Dead  Kirsten Johnson   \n",
       "1     TV Show                         Ganglands  Julien Leclercq   \n",
       "2     TV Show                     Midnight Mass    Mike Flanagan   \n",
       "3       Movie  Confessions of an Invisible Girl    Bruno Garotti   \n",
       "4       Movie                           Sankofa     Haile Gerima   \n",
       "...       ...                               ...              ...   \n",
       "8785  TV Show                        Yunus Emre        Not Given   \n",
       "8786  TV Show                         Zak Storm        Not Given   \n",
       "8787  TV Show                Zindagi Gulzar Hai        Not Given   \n",
       "8788  TV Show                              Yoko        Not Given   \n",
       "8789  TV Show                               YOM        Not Given   \n",
       "\n",
       "            country date_added  release_year rating   duration  \\\n",
       "0     United States 2021-09-25          2020  PG-13     90 min   \n",
       "1            France 2021-09-24          2021  TV-MA   1 Season   \n",
       "2     United States 2021-09-24          2021  TV-MA   1 Season   \n",
       "3            Brazil 2021-09-22          2021  TV-PG     91 min   \n",
       "4     United States 2021-09-24          1993  TV-MA    125 min   \n",
       "...             ...        ...           ...    ...        ...   \n",
       "8785         Turkey 2017-01-17          2016  TV-PG  2 Seasons   \n",
       "8786  United States 2018-09-13          2016  TV-Y7  3 Seasons   \n",
       "8787       Pakistan 2016-12-15          2012  TV-PG   1 Season   \n",
       "8788       Pakistan 2018-06-23          2016   TV-Y   1 Season   \n",
       "8789       Pakistan 2018-06-07          2016  TV-Y7   1 Season   \n",
       "\n",
       "                                              listed_in  year_added  \n",
       "0                                         Documentaries        2021  \n",
       "1     Crime TV Shows, International TV Shows, TV Act...        2021  \n",
       "2                    TV Dramas, TV Horror, TV Mysteries        2021  \n",
       "3                    Children & Family Movies, Comedies        2021  \n",
       "4      Dramas, Independent Movies, International Movies        2021  \n",
       "...                                                 ...         ...  \n",
       "8785                  International TV Shows, TV Dramas        2017  \n",
       "8786                                           Kids' TV        2018  \n",
       "8787  International TV Shows, Romantic TV Shows, TV ...        2016  \n",
       "8788                                           Kids' TV        2018  \n",
       "8789                                           Kids' TV        2018  \n",
       "\n",
       "[8790 rows x 10 columns]"
      ]
     },
     "execution_count": 35,
     "metadata": {},
     "output_type": "execute_result"
    }
   ],
   "source": [
    "df1['year_added'] = df1['date_added'].dt.year\n",
    "df1"
   ]
  },
  {
   "cell_type": "markdown",
   "metadata": {},
   "source": [
    "#### Movies & Shows Produce Per Year - Matplotlib"
   ]
  },
  {
   "cell_type": "code",
   "execution_count": 52,
   "metadata": {},
   "outputs": [
    {
     "data": {
      "text/plain": [
       "<Figure size 1000x600 with 0 Axes>"
      ]
     },
     "metadata": {},
     "output_type": "display_data"
    },
    {
     "data": {
      "image/png": "[encoded data removed]",
      "text/plain": [
       "<Figure size 640x480 with 1 Axes>"
      ]
     },
     "metadata": {},
     "output_type": "display_data"
    }
   ],
   "source": [
    "tp = df1.groupby(['year_added','type']).size().unstack()\n",
    "\n",
    "plt.figure(figsize=(10, 6))\n",
    "tp.plot(kind='line', marker='*',colormap='bwr')\n",
    "plt.title('Number of Movies and TV Shows Added Each Year')\n",
    "plt.xlabel('Year')\n",
    "plt.ylabel('Count')\n",
    "plt.legend(title='Category')\n",
    "plt.grid()\n",
    "plt.show()\n"
   ]
  },
  {
   "cell_type": "markdown",
   "metadata": {},
   "source": [
    "#### Top 10 Populated Categories Movies Got listed_in - Matplotlib"
   ]
  },
  {
   "cell_type": "code",
   "execution_count": 64,
   "metadata": {},
   "outputs": [
    {
     "data": {
      "text/plain": [
       "listed_in\n",
       "Dramas, International Movies                                362\n",
       "Documentaries                                               359\n",
       "Stand-Up Comedy                                             334\n",
       "Comedies, Dramas, International Movies                      274\n",
       "Dramas, Independent Movies, International Movies            252\n",
       "                                                           ... \n",
       "Anime Features                                                1\n",
       "Action & Adventure, Horror Movies, Independent Movies         1\n",
       "Action & Adventure, Classic Movies, International Movies      1\n",
       "Cult Movies, Independent Movies, Thrillers                    1\n",
       "Classic & Cult TV, Crime TV Shows, TV Dramas                  1\n",
       "Name: count, Length: 513, dtype: int64"
      ]
     },
     "execution_count": 64,
     "metadata": {},
     "output_type": "execute_result"
    }
   ],
   "source": [
    "category = df['listed_in'].value_counts()\n",
    "category"
   ]
  },
  {
   "cell_type": "code",
   "execution_count": 63,
   "metadata": {},
   "outputs": [
    {
     "data": {
      "text/plain": [
       "listed_in\n",
       "Dramas, International Movies                        362\n",
       "Documentaries                                       359\n",
       "Stand-Up Comedy                                     334\n",
       "Comedies, Dramas, International Movies              274\n",
       "Dramas, Independent Movies, International Movies    252\n",
       "Kids' TV                                            219\n",
       "Children & Family Movies                            215\n",
       "Children & Family Movies, Comedies                  201\n",
       "Documentaries, International Movies                 186\n",
       "Dramas, International Movies, Romantic Movies       180\n",
       "Name: count, dtype: int64"
      ]
     },
     "execution_count": 63,
     "metadata": {},
     "output_type": "execute_result"
    }
   ],
   "source": [
    "cat = category[:10]\n",
    "cat"
   ]
  },
  {
   "cell_type": "code",
   "execution_count": 61,
   "metadata": {},
   "outputs": [
    {
     "data": {
      "image/png": "[encoded data removed]",
      "text/plain": [
       "<Figure size 640x480 with 1 Axes>"
      ]
     },
     "metadata": {},
     "output_type": "display_data"
    }
   ],
   "source": [
    "plt.pie(cat, labels=cat.index, autopct='%1.1f%%')\n",
    "plt.title('Distribution of Top 10 Categories')\n",
    "plt.show()"
   ]
  },
  {
   "cell_type": "markdown",
   "metadata": {},
   "source": [
    "#### Top100 Categories Distribution - Plotly"
   ]
  },
  {
   "cell_type": "code",
   "execution_count": 69,
   "metadata": {},
   "outputs": [
    {
     "data": {
      "text/plain": [
       "100"
      ]
     },
     "execution_count": 69,
     "metadata": {},
     "output_type": "execute_result"
    }
   ],
   "source": [
    "cat100 = category[:100]\n",
    "len(cat100)"
   ]
  },
  {
   "cell_type": "code",
   "execution_count": 71,
   "metadata": {},
   "outputs": [
    {
     "data": {
      "application/vnd.plotly.v1+json": {
       "config": {
        "plotlyServerURL": "https://plot.ly"
       },
       "data": [
        {
         "alignmentgroup": "True",
         "hovertemplate": "listed_in=%{x}<br>Count=%{y}<extra></extra>",
         "legendgroup": "",
         "marker": {
          "color": "#636efa",
          "pattern": {
           "shape": ""
          }
         },
         "name": "",
         "offsetgroup": "",
         "orientation": "v",
         "showlegend": false,
         "textposition": "auto",
         "type": "bar",
         "x": [
          "Dramas, International Movies",
          "Documentaries",
          "Stand-Up Comedy",
          "Comedies, Dramas, International Movies",
          "Dramas, Independent Movies, International Movies",
          "Kids' TV",
          "Children & Family Movies",
          "Children & Family Movies, Comedies",
          "Documentaries, International Movies",
          "Dramas, International Movies, Romantic Movies",
          "Comedies, International Movies",
          "Comedies, International Movies, Romantic Movies",
          "Dramas",
          "Dramas, International Movies, Thrillers",
          "Action & Adventure, Dramas, International Movies",
          "Action & Adventure",
          "International TV Shows, TV Dramas",
          "Comedies, Dramas, Independent Movies",
          "Crime TV Shows, International TV Shows, TV Dramas",
          "Comedies",
          "Action & Adventure, International Movies",
          "Dramas, Independent Movies",
          "Kids' TV, TV Comedies",
          "Reality TV",
          "International TV Shows, Romantic TV Shows, TV Comedies",
          "International TV Shows, Romantic TV Shows, TV Dramas",
          "Anime Series, International TV Shows",
          "Docuseries",
          "Dramas, Thrillers",
          "Documentaries, Music & Musicals",
          "Comedies, Romantic Movies",
          "Action & Adventure, Comedies, International Movies",
          "TV Comedies",
          "International Movies, Thrillers",
          "International TV Shows, Korean TV Shows, Romantic TV Shows",
          "Documentaries, Sports Movies",
          "Thrillers",
          "Crime TV Shows, International TV Shows, Spanish-Language TV Shows",
          "Action & Adventure, Sci-Fi & Fantasy",
          "Dramas, International Movies, Music & Musicals",
          "Horror Movies, International Movies",
          "Comedies, International Movies, Music & Musicals",
          "Horror Movies",
          "Horror Movies, Thrillers",
          "Movies",
          "Dramas, Romantic Movies",
          "Action & Adventure, Comedies",
          "Crime TV Shows, Docuseries",
          "Horror Movies, International Movies, Thrillers",
          "Documentaries, International Movies, Sports Movies",
          "Documentaries, International Movies, Music & Musicals",
          "International TV Shows, TV Comedies, TV Dramas",
          "Docuseries, Science & Nature TV",
          "International TV Shows, Reality TV",
          "Action & Adventure, Anime Features, International Movies",
          "International TV Shows, TV Comedies",
          "TV Dramas",
          "Action & Adventure, Dramas",
          "Docuseries, International TV Shows",
          "Dramas, Independent Movies, Thrillers",
          "TV Comedies, TV Dramas",
          "British TV Shows, Docuseries, International TV Shows",
          "Comedies, Dramas",
          "Children & Family Movies, Dramas",
          "Crime TV Shows, Docuseries, International TV Shows",
          "British TV Shows, International TV Shows, Reality TV",
          "Action & Adventure, Comedies, Dramas",
          "Stand-Up Comedy & Talk Shows, TV Comedies",
          "International TV Shows, Spanish-Language TV Shows, TV Dramas",
          "International TV Shows, TV Dramas, TV Mysteries",
          "Dramas, International Movies, Sports Movies",
          "Comedies, Independent Movies",
          "British TV Shows, Crime TV Shows, International TV Shows",
          "British TV Shows, Docuseries, Science & Nature TV",
          "Dramas, Independent Movies, Romantic Movies",
          "Anime Series, Kids' TV",
          "International TV Shows, Romantic TV Shows, Spanish-Language TV Shows",
          "Documentaries, LGBTQ Movies",
          "Comedies, Independent Movies, International Movies",
          "British TV Shows, Crime TV Shows, Docuseries",
          "International TV Shows, TV Action & Adventure, TV Dramas",
          "Children & Family Movies, Music & Musicals",
          "British TV Shows, Kids' TV",
          "Crime TV Shows, International TV Shows, Korean TV Shows",
          "Comedies, Dramas, Romantic Movies",
          "Dramas, Sports Movies",
          "Kids' TV, Korean TV Shows",
          "International Movies, Romantic Movies",
          "Crime TV Shows, International TV Shows, TV Action & Adventure",
          "Horror Movies, Independent Movies",
          "Dramas, Faith & Spirituality",
          "International TV Shows, Korean TV Shows, TV Dramas",
          "Dramas, Independent Movies, LGBTQ Movies",
          "British TV Shows, International TV Shows, TV Comedies",
          "Crime TV Shows, TV Dramas, TV Mysteries",
          "TV Shows",
          "Classic Movies, Dramas, International Movies",
          "Docuseries, Reality TV",
          "Horror Movies, Independent Movies, Thrillers",
          "International TV Shows, Spanish-Language TV Shows, TV Comedies"
         ],
         "xaxis": "x",
         "y": [
          362,
          359,
          334,
          274,
          252,
          219,
          215,
          201,
          186,
          180,
          176,
          152,
          137,
          134,
          132,
          128,
          121,
          116,
          110,
          110,
          101,
          100,
          97,
          95,
          94,
          90,
          87,
          84,
          82,
          82,
          80,
          70,
          68,
          67,
          65,
          65,
          65,
          62,
          62,
          57,
          57,
          55,
          55,
          54,
          53,
          52,
          51,
          50,
          45,
          44,
          41,
          40,
          38,
          38,
          38,
          35,
          35,
          34,
          33,
          31,
          30,
          30,
          29,
          29,
          28,
          27,
          27,
          27,
          26,
          26,
          25,
          25,
          25,
          25,
          24,
          23,
          23,
          22,
          22,
          21,
          21,
          20,
          20,
          20,
          19,
          19,
          19,
          18,
          18,
          18,
          18,
          18,
          17,
          17,
          17,
          16,
          16,
          16,
          16,
          16
         ],
         "yaxis": "y"
        }
       ],
       "layout": {
        "barmode": "relative",
        "legend": {
         "tracegroupgap": 0
        },
        "template": {
         "data": {
          "bar": [
           {
            "error_x": {
             "color": "#2a3f5f"
            },
            "error_y": {
             "color": "#2a3f5f"
            },
            "marker": {
             "line": {
              "color": "#E5ECF6",
              "width": 0.5
             },
             "pattern": {
              "fillmode": "overlay",
              "size": 10,
              "solidity": 0.2
             }
            },
            "type": "bar"
           }
          ],
          "barpolar": [
           {
            "marker": {
             "line": {
              "color": "#E5ECF6",
              "width": 0.5
             },
             "pattern": {
              "fillmode": "overlay",
              "size": 10,
              "solidity": 0.2
             }
            },
            "type": "barpolar"
           }
          ],
          "carpet": [
           {
            "aaxis": {
             "endlinecolor": "#2a3f5f",
             "gridcolor": "white",
             "linecolor": "white",
             "minorgridcolor": "white",
             "startlinecolor": "#2a3f5f"
            },
            "baxis": {
             "endlinecolor": "#2a3f5f",
             "gridcolor": "white",
             "linecolor": "white",
             "minorgridcolor": "white",
             "startlinecolor": "#2a3f5f"
            },
            "type": "carpet"
           }
          ],
          "choropleth": [
           {
            "colorbar": {
             "outlinewidth": 0,
             "ticks": ""
            },
            "type": "choropleth"
           }
          ],
          "contour": [
           {
            "colorbar": {
             "outlinewidth": 0,
             "ticks": ""
            },
            "colorscale": [
             [
              0,
              "#0d0887"
             ],
             [
              0.1111111111111111,
              "#46039f"
             ],
             [
              0.2222222222222222,
              "#7201a8"
             ],
             [
              0.3333333333333333,
              "#9c179e"
             ],
             [
              0.4444444444444444,
              "#bd3786"
             ],
             [
              0.5555555555555556,
              "#d8576b"
             ],
             [
              0.6666666666666666,
              "#ed7953"
             ],
             [
              0.7777777777777778,
              "#fb9f3a"
             ],
             [
              0.8888888888888888,
              "#fdca26"
             ],
             [
              1,
              "#f0f921"
             ]
            ],
            "type": "contour"
           }
          ],
          "contourcarpet": [
           {
            "colorbar": {
             "outlinewidth": 0,
             "ticks": ""
            },
            "type": "contourcarpet"
           }
          ],
          "heatmap": [
           {
            "colorbar": {
             "outlinewidth": 0,
             "ticks": ""
            },
            "colorscale": [
             [
              0,
              "#0d0887"
             ],
             [
              0.1111111111111111,
              "#46039f"
             ],
             [
              0.2222222222222222,
              "#7201a8"
             ],
             [
              0.3333333333333333,
              "#9c179e"
             ],
             [
              0.4444444444444444,
              "#bd3786"
             ],
             [
              0.5555555555555556,
              "#d8576b"
             ],
             [
              0.6666666666666666,
              "#ed7953"
             ],
             [
              0.7777777777777778,
              "#fb9f3a"
             ],
             [
              0.8888888888888888,
              "#fdca26"
             ],
             [
              1,
              "#f0f921"
             ]
            ],
            "type": "heatmap"
           }
          ],
          "heatmapgl": [
           {
            "colorbar": {
             "outlinewidth": 0,
             "ticks": ""
            },
            "colorscale": [
             [
              0,
              "#0d0887"
             ],
             [
              0.1111111111111111,
              "#46039f"
             ],
             [
              0.2222222222222222,
              "#7201a8"
             ],
             [
              0.3333333333333333,
              "#9c179e"
             ],
             [
              0.4444444444444444,
              "#bd3786"
             ],
             [
              0.5555555555555556,
              "#d8576b"
             ],
             [
              0.6666666666666666,
              "#ed7953"
             ],
             [
              0.7777777777777778,
              "#fb9f3a"
             ],
             [
              0.8888888888888888,
              "#fdca26"
             ],
             [
              1,
              "#f0f921"
             ]
            ],
            "type": "heatmapgl"
           }
          ],
          "histogram": [
           {
            "marker": {
             "pattern": {
              "fillmode": "overlay",
              "size": 10,
              "solidity": 0.2
             }
            },
            "type": "histogram"
           }
          ],
          "histogram2d": [
           {
            "colorbar": {
             "outlinewidth": 0,
             "ticks": ""
            },
            "colorscale": [
             [
              0,
              "#0d0887"
             ],
             [
              0.1111111111111111,
              "#46039f"
             ],
             [
              0.2222222222222222,
              "#7201a8"
             ],
             [
              0.3333333333333333,
              "#9c179e"
             ],
             [
              0.4444444444444444,
              "#bd3786"
             ],
             [
              0.5555555555555556,
              "#d8576b"
             ],
             [
              0.6666666666666666,
              "#ed7953"
             ],
             [
              0.7777777777777778,
              "#fb9f3a"
             ],
             [
              0.8888888888888888,
              "#fdca26"
             ],
             [
              1,
              "#f0f921"
             ]
            ],
            "type": "histogram2d"
           }
          ],
          "histogram2dcontour": [
           {
            "colorbar": {
             "outlinewidth": 0,
             "ticks": ""
            },
            "colorscale": [
             [
              0,
              "#0d0887"
             ],
             [
              0.1111111111111111,
              "#46039f"
             ],
             [
              0.2222222222222222,
              "#7201a8"
             ],
             [
              0.3333333333333333,
              "#9c179e"
             ],
             [
              0.4444444444444444,
              "#bd3786"
             ],
             [
              0.5555555555555556,
              "#d8576b"
             ],
             [
              0.6666666666666666,
              "#ed7953"
             ],
             [
              0.7777777777777778,
              "#fb9f3a"
             ],
             [
              0.8888888888888888,
              "#fdca26"
             ],
             [
              1,
              "#f0f921"
             ]
            ],
            "type": "histogram2dcontour"
           }
          ],
          "mesh3d": [
           {
            "colorbar": {
             "outlinewidth": 0,
             "ticks": ""
            },
            "type": "mesh3d"
           }
          ],
          "parcoords": [
           {
            "line": {
             "colorbar": {
              "outlinewidth": 0,
              "ticks": ""
             }
            },
            "type": "parcoords"
           }
          ],
          "pie": [
           {
            "automargin": true,
            "type": "pie"
           }
          ],
          "scatter": [
           {
            "fillpattern": {
             "fillmode": "overlay",
             "size": 10,
             "solidity": 0.2
            },
            "type": "scatter"
           }
          ],
          "scatter3d": [
           {
            "line": {
             "colorbar": {
              "outlinewidth": 0,
              "ticks": ""
             }
            },
            "marker": {
             "colorbar": {
              "outlinewidth": 0,
              "ticks": ""
             }
            },
            "type": "scatter3d"
           }
          ],
          "scattercarpet": [
           {
            "marker": {
             "colorbar": {
              "outlinewidth": 0,
              "ticks": ""
             }
            },
            "type": "scattercarpet"
           }
          ],
          "scattergeo": [
           {
            "marker": {
             "colorbar": {
              "outlinewidth": 0,
              "ticks": ""
             }
            },
            "type": "scattergeo"
           }
          ],
          "scattergl": [
           {
            "marker": {
             "colorbar": {
              "outlinewidth": 0,
              "ticks": ""
             }
            },
            "type": "scattergl"
           }
          ],
          "scattermapbox": [
           {
            "marker": {
             "colorbar": {
              "outlinewidth": 0,
              "ticks": ""
             }
            },
            "type": "scattermapbox"
           }
          ],
          "scatterpolar": [
           {
            "marker": {
             "colorbar": {
              "outlinewidth": 0,
              "ticks": ""
             }
            },
            "type": "scatterpolar"
           }
          ],
          "scatterpolargl": [
           {
            "marker": {
             "colorbar": {
              "outlinewidth": 0,
              "ticks": ""
             }
            },
            "type": "scatterpolargl"
           }
          ],
          "scatterternary": [
           {
            "marker": {
             "colorbar": {
              "outlinewidth": 0,
              "ticks": ""
             }
            },
            "type": "scatterternary"
           }
          ],
          "surface": [
           {
            "colorbar": {
             "outlinewidth": 0,
             "ticks": ""
            },
            "colorscale": [
             [
              0,
              "#0d0887"
             ],
             [
              0.1111111111111111,
              "#46039f"
             ],
             [
              0.2222222222222222,
              "#7201a8"
             ],
             [
              0.3333333333333333,
              "#9c179e"
             ],
             [
              0.4444444444444444,
              "#bd3786"
             ],
             [
              0.5555555555555556,
              "#d8576b"
             ],
             [
              0.6666666666666666,
              "#ed7953"
             ],
             [
              0.7777777777777778,
              "#fb9f3a"
             ],
             [
              0.8888888888888888,
              "#fdca26"
             ],
             [
              1,
              "#f0f921"
             ]
            ],
            "type": "surface"
           }
          ],
          "table": [
           {
            "cells": {
             "fill": {
              "color": "#EBF0F8"
             },
             "line": {
              "color": "white"
             }
            },
            "header": {
             "fill": {
              "color": "#C8D4E3"
             },
             "line": {
              "color": "white"
             }
            },
            "type": "table"
           }
          ]
         },
         "layout": {
          "annotationdefaults": {
           "arrowcolor": "#2a3f5f",
           "arrowhead": 0,
           "arrowwidth": 1
          },
          "autotypenumbers": "strict",
          "coloraxis": {
           "colorbar": {
            "outlinewidth": 0,
            "ticks": ""
           }
          },
          "colorscale": {
           "diverging": [
            [
             0,
             "#8e0152"
            ],
            [
             0.1,
             "#c51b7d"
            ],
            [
             0.2,
             "#de77ae"
            ],
            [
             0.3,
             "#f1b6da"
            ],
            [
             0.4,
             "#fde0ef"
            ],
            [
             0.5,
             "#f7f7f7"
            ],
            [
             0.6,
             "#e6f5d0"
            ],
            [
             0.7,
             "#b8e186"
            ],
            [
             0.8,
             "#7fbc41"
            ],
            [
             0.9,
             "#4d9221"
            ],
            [
             1,
             "#276419"
            ]
           ],
           "sequential": [
            [
             0,
             "#0d0887"
            ],
            [
             0.1111111111111111,
             "#46039f"
            ],
            [
             0.2222222222222222,
             "#7201a8"
            ],
            [
             0.3333333333333333,
             "#9c179e"
            ],
            [
             0.4444444444444444,
             "#bd3786"
            ],
            [
             0.5555555555555556,
             "#d8576b"
            ],
            [
             0.6666666666666666,
             "#ed7953"
            ],
            [
             0.7777777777777778,
             "#fb9f3a"
            ],
            [
             0.8888888888888888,
             "#fdca26"
            ],
            [
             1,
             "#f0f921"
            ]
           ],
           "sequentialminus": [
            [
             0,
             "#0d0887"
            ],
            [
             0.1111111111111111,
             "#46039f"
            ],
            [
             0.2222222222222222,
             "#7201a8"
            ],
            [
             0.3333333333333333,
             "#9c179e"
            ],
            [
             0.4444444444444444,
             "#bd3786"
            ],
            [
             0.5555555555555556,
             "#d8576b"
            ],
            [
             0.6666666666666666,
             "#ed7953"
            ],
            [
             0.7777777777777778,
             "#fb9f3a"
            ],
            [
             0.8888888888888888,
             "#fdca26"
            ],
            [
             1,
             "#f0f921"
            ]
           ]
          },
          "colorway": [
           "#636efa",
           "#EF553B",
           "#00cc96",
           "#ab63fa",
           "#FFA15A",
           "#19d3f3",
           "#FF6692",
           "#B6E880",
           "#FF97FF",
           "#FECB52"
          ],
          "font": {
           "color": "#2a3f5f"
          },
          "geo": {
           "bgcolor": "white",
           "lakecolor": "white",
           "landcolor": "#E5ECF6",
           "showlakes": true,
           "showland": true,
           "subunitcolor": "white"
          },
          "hoverlabel": {
           "align": "left"
          },
          "hovermode": "closest",
          "mapbox": {
           "style": "light"
          },
          "paper_bgcolor": "white",
          "plot_bgcolor": "#E5ECF6",
          "polar": {
           "angularaxis": {
            "gridcolor": "white",
            "linecolor": "white",
            "ticks": ""
           },
           "bgcolor": "#E5ECF6",
           "radialaxis": {
            "gridcolor": "white",
            "linecolor": "white",
            "ticks": ""
           }
          },
          "scene": {
           "xaxis": {
            "backgroundcolor": "#E5ECF6",
            "gridcolor": "white",
            "gridwidth": 2,
            "linecolor": "white",
            "showbackground": true,
            "ticks": "",
            "zerolinecolor": "white"
           },
           "yaxis": {
            "backgroundcolor": "#E5ECF6",
            "gridcolor": "white",
            "gridwidth": 2,
            "linecolor": "white",
            "showbackground": true,
            "ticks": "",
            "zerolinecolor": "white"
           },
           "zaxis": {
            "backgroundcolor": "#E5ECF6",
            "gridcolor": "white",
            "gridwidth": 2,
            "linecolor": "white",
            "showbackground": true,
            "ticks": "",
            "zerolinecolor": "white"
           }
          },
          "shapedefaults": {
           "line": {
            "color": "#2a3f5f"
           }
          },
          "ternary": {
           "aaxis": {
            "gridcolor": "white",
            "linecolor": "white",
            "ticks": ""
           },
           "baxis": {
            "gridcolor": "white",
            "linecolor": "white",
            "ticks": ""
           },
           "bgcolor": "#E5ECF6",
           "caxis": {
            "gridcolor": "white",
            "linecolor": "white",
            "ticks": ""
           }
          },
          "title": {
           "x": 0.05
          },
          "xaxis": {
           "automargin": true,
           "gridcolor": "white",
           "linecolor": "white",
           "ticks": "",
           "title": {
            "standoff": 15
           },
           "zerolinecolor": "white",
           "zerolinewidth": 2
          },
          "yaxis": {
           "automargin": true,
           "gridcolor": "white",
           "linecolor": "white",
           "ticks": "",
           "title": {
            "standoff": 15
           },
           "zerolinecolor": "white",
           "zerolinewidth": 2
          }
         }
        },
        "title": {
         "text": "Categories"
        },
        "xaxis": {
         "anchor": "y",
         "domain": [
          0,
          1
         ],
         "title": {
          "text": "listed_in"
         }
        },
        "yaxis": {
         "anchor": "x",
         "domain": [
          0,
          1
         ],
         "title": {
          "text": "Count"
         }
        }
       }
      }
     },
     "metadata": {},
     "output_type": "display_data"
    }
   ],
   "source": [
    "fig = px.bar(cat100, cat100.index, y=cat100.values, \n",
    "             labels={'x': 'listed_in', 'y': 'Count'},\n",
    "             title='Categories')\n",
    "fig.show()"
   ]
  },
  {
   "cell_type": "markdown",
   "metadata": {},
   "source": [
    "#### Top10 Show Producing directors on Netflix - Plotly"
   ]
  },
  {
   "cell_type": "code",
   "execution_count": 77,
   "metadata": {},
   "outputs": [
    {
     "data": {
      "text/plain": [
       "director\n",
       "Rajiv Chilaka                     20\n",
       "Alastair Fothergill               18\n",
       "Raúl Campos, Jan Suter            18\n",
       "Suhas Kadav                       16\n",
       "Marcus Raboy                      16\n",
       "                                  ..\n",
       "Matt D'Avella                      1\n",
       "Parthiban                          1\n",
       "Scott McAboy                       1\n",
       "Raymie Muzquiz, Stu Livingston     1\n",
       "Mozez Singh                        1\n",
       "Name: count, Length: 4527, dtype: int64"
      ]
     },
     "execution_count": 77,
     "metadata": {},
     "output_type": "execute_result"
    }
   ],
   "source": [
    "dr = df['director'].value_counts()\n",
    "dr = dr[dr.index != 'Not Given']\n",
    "dr"
   ]
  },
  {
   "cell_type": "code",
   "execution_count": 78,
   "metadata": {},
   "outputs": [
    {
     "data": {
      "text/plain": [
       "director\n",
       "Rajiv Chilaka             20\n",
       "Alastair Fothergill       18\n",
       "Raúl Campos, Jan Suter    18\n",
       "Suhas Kadav               16\n",
       "Marcus Raboy              16\n",
       "Jay Karas                 14\n",
       "Cathy Garcia-Molina       13\n",
       "Martin Scorsese           12\n",
       "Youssef Chahine           12\n",
       "Jay Chapman               12\n",
       "Name: count, dtype: int64"
      ]
     },
     "execution_count": 78,
     "metadata": {},
     "output_type": "execute_result"
    }
   ],
   "source": [
    "dr10 = dr[:10]\n",
    "dr10"
   ]
  },
  {
   "cell_type": "code",
   "execution_count": 79,
   "metadata": {},
   "outputs": [
    {
     "data": {
      "application/vnd.plotly.v1+json": {
       "config": {
        "plotlyServerURL": "https://plot.ly"
       },
       "data": [
        {
         "alignmentgroup": "True",
         "hovertemplate": "director=%{x}<br>Count=%{y}<extra></extra>",
         "legendgroup": "",
         "marker": {
          "color": "#636efa",
          "pattern": {
           "shape": ""
          }
         },
         "name": "",
         "offsetgroup": "",
         "orientation": "v",
         "showlegend": false,
         "textposition": "auto",
         "type": "bar",
         "x": [
          "Rajiv Chilaka",
          "Alastair Fothergill",
          "Raúl Campos, Jan Suter",
          "Suhas Kadav",
          "Marcus Raboy",
          "Jay Karas",
          "Cathy Garcia-Molina",
          "Martin Scorsese",
          "Youssef Chahine",
          "Jay Chapman"
         ],
         "xaxis": "x",
         "y": [
          20,
          18,
          18,
          16,
          16,
          14,
          13,
          12,
          12,
          12
         ],
         "yaxis": "y"
        }
       ],
       "layout": {
        "barmode": "relative",
        "legend": {
         "tracegroupgap": 0
        },
        "template": {
         "data": {
          "bar": [
           {
            "error_x": {
             "color": "#2a3f5f"
            },
            "error_y": {
             "color": "#2a3f5f"
            },
            "marker": {
             "line": {
              "color": "#E5ECF6",
              "width": 0.5
             },
             "pattern": {
              "fillmode": "overlay",
              "size": 10,
              "solidity": 0.2
             }
            },
            "type": "bar"
           }
          ],
          "barpolar": [
           {
            "marker": {
             "line": {
              "color": "#E5ECF6",
              "width": 0.5
             },
             "pattern": {
              "fillmode": "overlay",
              "size": 10,
              "solidity": 0.2
             }
            },
            "type": "barpolar"
           }
          ],
          "carpet": [
           {
            "aaxis": {
             "endlinecolor": "#2a3f5f",
             "gridcolor": "white",
             "linecolor": "white",
             "minorgridcolor": "white",
             "startlinecolor": "#2a3f5f"
            },
            "baxis": {
             "endlinecolor": "#2a3f5f",
             "gridcolor": "white",
             "linecolor": "white",
             "minorgridcolor": "white",
             "startlinecolor": "#2a3f5f"
            },
            "type": "carpet"
           }
          ],
          "choropleth": [
           {
            "colorbar": {
             "outlinewidth": 0,
             "ticks": ""
            },
            "type": "choropleth"
           }
          ],
          "contour": [
           {
            "colorbar": {
             "outlinewidth": 0,
             "ticks": ""
            },
            "colorscale": [
             [
              0,
              "#0d0887"
             ],
             [
              0.1111111111111111,
              "#46039f"
             ],
             [
              0.2222222222222222,
              "#7201a8"
             ],
             [
              0.3333333333333333,
              "#9c179e"
             ],
             [
              0.4444444444444444,
              "#bd3786"
             ],
             [
              0.5555555555555556,
              "#d8576b"
             ],
             [
              0.6666666666666666,
              "#ed7953"
             ],
             [
              0.7777777777777778,
              "#fb9f3a"
             ],
             [
              0.8888888888888888,
              "#fdca26"
             ],
             [
              1,
              "#f0f921"
             ]
            ],
            "type": "contour"
           }
          ],
          "contourcarpet": [
           {
            "colorbar": {
             "outlinewidth": 0,
             "ticks": ""
            },
            "type": "contourcarpet"
           }
          ],
          "heatmap": [
           {
            "colorbar": {
             "outlinewidth": 0,
             "ticks": ""
            },
            "colorscale": [
             [
              0,
              "#0d0887"
             ],
             [
              0.1111111111111111,
              "#46039f"
             ],
             [
              0.2222222222222222,
              "#7201a8"
             ],
             [
              0.3333333333333333,
              "#9c179e"
             ],
             [
              0.4444444444444444,
              "#bd3786"
             ],
             [
              0.5555555555555556,
              "#d8576b"
             ],
             [
              0.6666666666666666,
              "#ed7953"
             ],
             [
              0.7777777777777778,
              "#fb9f3a"
             ],
             [
              0.8888888888888888,
              "#fdca26"
             ],
             [
              1,
              "#f0f921"
             ]
            ],
            "type": "heatmap"
           }
          ],
          "heatmapgl": [
           {
            "colorbar": {
             "outlinewidth": 0,
             "ticks": ""
            },
            "colorscale": [
             [
              0,
              "#0d0887"
             ],
             [
              0.1111111111111111,
              "#46039f"
             ],
             [
              0.2222222222222222,
              "#7201a8"
             ],
             [
              0.3333333333333333,
              "#9c179e"
             ],
             [
              0.4444444444444444,
              "#bd3786"
             ],
             [
              0.5555555555555556,
              "#d8576b"
             ],
             [
              0.6666666666666666,
              "#ed7953"
             ],
             [
              0.7777777777777778,
              "#fb9f3a"
             ],
             [
              0.8888888888888888,
              "#fdca26"
             ],
             [
              1,
              "#f0f921"
             ]
            ],
            "type": "heatmapgl"
           }
          ],
          "histogram": [
           {
            "marker": {
             "pattern": {
              "fillmode": "overlay",
              "size": 10,
              "solidity": 0.2
             }
            },
            "type": "histogram"
           }
          ],
          "histogram2d": [
           {
            "colorbar": {
             "outlinewidth": 0,
             "ticks": ""
            },
            "colorscale": [
             [
              0,
              "#0d0887"
             ],
             [
              0.1111111111111111,
              "#46039f"
             ],
             [
              0.2222222222222222,
              "#7201a8"
             ],
             [
              0.3333333333333333,
              "#9c179e"
             ],
             [
              0.4444444444444444,
              "#bd3786"
             ],
             [
              0.5555555555555556,
              "#d8576b"
             ],
             [
              0.6666666666666666,
              "#ed7953"
             ],
             [
              0.7777777777777778,
              "#fb9f3a"
             ],
             [
              0.8888888888888888,
              "#fdca26"
             ],
             [
              1,
              "#f0f921"
             ]
            ],
            "type": "histogram2d"
           }
          ],
          "histogram2dcontour": [
           {
            "colorbar": {
             "outlinewidth": 0,
             "ticks": ""
            },
            "colorscale": [
             [
              0,
              "#0d0887"
             ],
             [
              0.1111111111111111,
              "#46039f"
             ],
             [
              0.2222222222222222,
              "#7201a8"
             ],
             [
              0.3333333333333333,
              "#9c179e"
             ],
             [
              0.4444444444444444,
              "#bd3786"
             ],
             [
              0.5555555555555556,
              "#d8576b"
             ],
             [
              0.6666666666666666,
              "#ed7953"
             ],
             [
              0.7777777777777778,
              "#fb9f3a"
             ],
             [
              0.8888888888888888,
              "#fdca26"
             ],
             [
              1,
              "#f0f921"
             ]
            ],
            "type": "histogram2dcontour"
           }
          ],
          "mesh3d": [
           {
            "colorbar": {
             "outlinewidth": 0,
             "ticks": ""
            },
            "type": "mesh3d"
           }
          ],
          "parcoords": [
           {
            "line": {
             "colorbar": {
              "outlinewidth": 0,
              "ticks": ""
             }
            },
            "type": "parcoords"
           }
          ],
          "pie": [
           {
            "automargin": true,
            "type": "pie"
           }
          ],
          "scatter": [
           {
            "fillpattern": {
             "fillmode": "overlay",
             "size": 10,
             "solidity": 0.2
            },
            "type": "scatter"
           }
          ],
          "scatter3d": [
           {
            "line": {
             "colorbar": {
              "outlinewidth": 0,
              "ticks": ""
             }
            },
            "marker": {
             "colorbar": {
              "outlinewidth": 0,
              "ticks": ""
             }
            },
            "type": "scatter3d"
           }
          ],
          "scattercarpet": [
           {
            "marker": {
             "colorbar": {
              "outlinewidth": 0,
              "ticks": ""
             }
            },
            "type": "scattercarpet"
           }
          ],
          "scattergeo": [
           {
            "marker": {
             "colorbar": {
              "outlinewidth": 0,
              "ticks": ""
             }
            },
            "type": "scattergeo"
           }
          ],
          "scattergl": [
           {
            "marker": {
             "colorbar": {
              "outlinewidth": 0,
              "ticks": ""
             }
            },
            "type": "scattergl"
           }
          ],
          "scattermapbox": [
           {
            "marker": {
             "colorbar": {
              "outlinewidth": 0,
              "ticks": ""
             }
            },
            "type": "scattermapbox"
           }
          ],
          "scatterpolar": [
           {
            "marker": {
             "colorbar": {
              "outlinewidth": 0,
              "ticks": ""
             }
            },
            "type": "scatterpolar"
           }
          ],
          "scatterpolargl": [
           {
            "marker": {
             "colorbar": {
              "outlinewidth": 0,
              "ticks": ""
             }
            },
            "type": "scatterpolargl"
           }
          ],
          "scatterternary": [
           {
            "marker": {
             "colorbar": {
              "outlinewidth": 0,
              "ticks": ""
             }
            },
            "type": "scatterternary"
           }
          ],
          "surface": [
           {
            "colorbar": {
             "outlinewidth": 0,
             "ticks": ""
            },
            "colorscale": [
             [
              0,
              "#0d0887"
             ],
             [
              0.1111111111111111,
              "#46039f"
             ],
             [
              0.2222222222222222,
              "#7201a8"
             ],
             [
              0.3333333333333333,
              "#9c179e"
             ],
             [
              0.4444444444444444,
              "#bd3786"
             ],
             [
              0.5555555555555556,
              "#d8576b"
             ],
             [
              0.6666666666666666,
              "#ed7953"
             ],
             [
              0.7777777777777778,
              "#fb9f3a"
             ],
             [
              0.8888888888888888,
              "#fdca26"
             ],
             [
              1,
              "#f0f921"
             ]
            ],
            "type": "surface"
           }
          ],
          "table": [
           {
            "cells": {
             "fill": {
              "color": "#EBF0F8"
             },
             "line": {
              "color": "white"
             }
            },
            "header": {
             "fill": {
              "color": "#C8D4E3"
             },
             "line": {
              "color": "white"
             }
            },
            "type": "table"
           }
          ]
         },
         "layout": {
          "annotationdefaults": {
           "arrowcolor": "#2a3f5f",
           "arrowhead": 0,
           "arrowwidth": 1
          },
          "autotypenumbers": "strict",
          "coloraxis": {
           "colorbar": {
            "outlinewidth": 0,
            "ticks": ""
           }
          },
          "colorscale": {
           "diverging": [
            [
             0,
             "#8e0152"
            ],
            [
             0.1,
             "#c51b7d"
            ],
            [
             0.2,
             "#de77ae"
            ],
            [
             0.3,
             "#f1b6da"
            ],
            [
             0.4,
             "#fde0ef"
            ],
            [
             0.5,
             "#f7f7f7"
            ],
            [
             0.6,
             "#e6f5d0"
            ],
            [
             0.7,
             "#b8e186"
            ],
            [
             0.8,
             "#7fbc41"
            ],
            [
             0.9,
             "#4d9221"
            ],
            [
             1,
             "#276419"
            ]
           ],
           "sequential": [
            [
             0,
             "#0d0887"
            ],
            [
             0.1111111111111111,
             "#46039f"
            ],
            [
             0.2222222222222222,
             "#7201a8"
            ],
            [
             0.3333333333333333,
             "#9c179e"
            ],
            [
             0.4444444444444444,
             "#bd3786"
            ],
            [
             0.5555555555555556,
             "#d8576b"
            ],
            [
             0.6666666666666666,
             "#ed7953"
            ],
            [
             0.7777777777777778,
             "#fb9f3a"
            ],
            [
             0.8888888888888888,
             "#fdca26"
            ],
            [
             1,
             "#f0f921"
            ]
           ],
           "sequentialminus": [
            [
             0,
             "#0d0887"
            ],
            [
             0.1111111111111111,
             "#46039f"
            ],
            [
             0.2222222222222222,
             "#7201a8"
            ],
            [
             0.3333333333333333,
             "#9c179e"
            ],
            [
             0.4444444444444444,
             "#bd3786"
            ],
            [
             0.5555555555555556,
             "#d8576b"
            ],
            [
             0.6666666666666666,
             "#ed7953"
            ],
            [
             0.7777777777777778,
             "#fb9f3a"
            ],
            [
             0.8888888888888888,
             "#fdca26"
            ],
            [
             1,
             "#f0f921"
            ]
           ]
          },
          "colorway": [
           "#636efa",
           "#EF553B",
           "#00cc96",
           "#ab63fa",
           "#FFA15A",
           "#19d3f3",
           "#FF6692",
           "#B6E880",
           "#FF97FF",
           "#FECB52"
          ],
          "font": {
           "color": "#2a3f5f"
          },
          "geo": {
           "bgcolor": "white",
           "lakecolor": "white",
           "landcolor": "#E5ECF6",
           "showlakes": true,
           "showland": true,
           "subunitcolor": "white"
          },
          "hoverlabel": {
           "align": "left"
          },
          "hovermode": "closest",
          "mapbox": {
           "style": "light"
          },
          "paper_bgcolor": "white",
          "plot_bgcolor": "#E5ECF6",
          "polar": {
           "angularaxis": {
            "gridcolor": "white",
            "linecolor": "white",
            "ticks": ""
           },
           "bgcolor": "#E5ECF6",
           "radialaxis": {
            "gridcolor": "white",
            "linecolor": "white",
            "ticks": ""
           }
          },
          "scene": {
           "xaxis": {
            "backgroundcolor": "#E5ECF6",
            "gridcolor": "white",
            "gridwidth": 2,
            "linecolor": "white",
            "showbackground": true,
            "ticks": "",
            "zerolinecolor": "white"
           },
           "yaxis": {
            "backgroundcolor": "#E5ECF6",
            "gridcolor": "white",
            "gridwidth": 2,
            "linecolor": "white",
            "showbackground": true,
            "ticks": "",
            "zerolinecolor": "white"
           },
           "zaxis": {
            "backgroundcolor": "#E5ECF6",
            "gridcolor": "white",
            "gridwidth": 2,
            "linecolor": "white",
            "showbackground": true,
            "ticks": "",
            "zerolinecolor": "white"
           }
          },
          "shapedefaults": {
           "line": {
            "color": "#2a3f5f"
           }
          },
          "ternary": {
           "aaxis": {
            "gridcolor": "white",
            "linecolor": "white",
            "ticks": ""
           },
           "baxis": {
            "gridcolor": "white",
            "linecolor": "white",
            "ticks": ""
           },
           "bgcolor": "#E5ECF6",
           "caxis": {
            "gridcolor": "white",
            "linecolor": "white",
            "ticks": ""
           }
          },
          "title": {
           "x": 0.05
          },
          "xaxis": {
           "automargin": true,
           "gridcolor": "white",
           "linecolor": "white",
           "ticks": "",
           "title": {
            "standoff": 15
           },
           "zerolinecolor": "white",
           "zerolinewidth": 2
          },
          "yaxis": {
           "automargin": true,
           "gridcolor": "white",
           "linecolor": "white",
           "ticks": "",
           "title": {
            "standoff": 15
           },
           "zerolinecolor": "white",
           "zerolinewidth": 2
          }
         }
        },
        "title": {
         "text": "Categories"
        },
        "xaxis": {
         "anchor": "y",
         "domain": [
          0,
          1
         ],
         "title": {
          "text": "director"
         }
        },
        "yaxis": {
         "anchor": "x",
         "domain": [
          0,
          1
         ],
         "title": {
          "text": "Count"
         }
        }
       }
      }
     },
     "metadata": {},
     "output_type": "display_data"
    }
   ],
   "source": [
    "fig = px.bar(dr10, dr10.index, y=dr10.values, \n",
    "             labels={'x': 'listed_in', 'y': 'Count'},\n",
    "             title='Categories')\n",
    "fig.show()"
   ]
  },
  {
   "cell_type": "markdown",
   "metadata": {},
   "source": [
    "#### Countries Producing Movies - Plotly"
   ]
  },
  {
   "cell_type": "code",
   "execution_count": 88,
   "metadata": {},
   "outputs": [
    {
     "data": {
      "text/html": [
       "<div>\n",
       "<style scoped>\n",
       "    .dataframe tbody tr th:only-of-type {\n",
       "        vertical-align: middle;\n",
       "    }\n",
       "\n",
       "    .dataframe tbody tr th {\n",
       "        vertical-align: top;\n",
       "    }\n",
       "\n",
       "    .dataframe thead th {\n",
       "        text-align: right;\n",
       "    }\n",
       "</style>\n",
       "<table border=\"1\" class=\"dataframe\">\n",
       "  <thead>\n",
       "    <tr style=\"text-align: right;\">\n",
       "      <th></th>\n",
       "      <th>country</th>\n",
       "      <th>count</th>\n",
       "    </tr>\n",
       "  </thead>\n",
       "  <tbody>\n",
       "    <tr>\n",
       "      <th>0</th>\n",
       "      <td>United States</td>\n",
       "      <td>3240</td>\n",
       "    </tr>\n",
       "    <tr>\n",
       "      <th>1</th>\n",
       "      <td>India</td>\n",
       "      <td>1057</td>\n",
       "    </tr>\n",
       "    <tr>\n",
       "      <th>2</th>\n",
       "      <td>United Kingdom</td>\n",
       "      <td>638</td>\n",
       "    </tr>\n",
       "    <tr>\n",
       "      <th>3</th>\n",
       "      <td>Pakistan</td>\n",
       "      <td>421</td>\n",
       "    </tr>\n",
       "    <tr>\n",
       "      <th>5</th>\n",
       "      <td>Canada</td>\n",
       "      <td>271</td>\n",
       "    </tr>\n",
       "    <tr>\n",
       "      <th>...</th>\n",
       "      <td>...</td>\n",
       "      <td>...</td>\n",
       "    </tr>\n",
       "    <tr>\n",
       "      <th>81</th>\n",
       "      <td>Iran</td>\n",
       "      <td>1</td>\n",
       "    </tr>\n",
       "    <tr>\n",
       "      <th>82</th>\n",
       "      <td>West Germany</td>\n",
       "      <td>1</td>\n",
       "    </tr>\n",
       "    <tr>\n",
       "      <th>83</th>\n",
       "      <td>Greece</td>\n",
       "      <td>1</td>\n",
       "    </tr>\n",
       "    <tr>\n",
       "      <th>84</th>\n",
       "      <td>Zimbabwe</td>\n",
       "      <td>1</td>\n",
       "    </tr>\n",
       "    <tr>\n",
       "      <th>85</th>\n",
       "      <td>Soviet Union</td>\n",
       "      <td>1</td>\n",
       "    </tr>\n",
       "  </tbody>\n",
       "</table>\n",
       "<p>85 rows × 2 columns</p>\n",
       "</div>"
      ],
      "text/plain": [
       "           country  count\n",
       "0    United States   3240\n",
       "1            India   1057\n",
       "2   United Kingdom    638\n",
       "3         Pakistan    421\n",
       "5           Canada    271\n",
       "..             ...    ...\n",
       "81            Iran      1\n",
       "82    West Germany      1\n",
       "83          Greece      1\n",
       "84        Zimbabwe      1\n",
       "85    Soviet Union      1\n",
       "\n",
       "[85 rows x 2 columns]"
      ]
     },
     "execution_count": 88,
     "metadata": {},
     "output_type": "execute_result"
    }
   ],
   "source": [
    "country_movie_counts = df1['country'].value_counts().reset_index()\n",
    "country_movie_counts = country_movie_counts[country_movie_counts['country'] != 'Not Given']\n",
    "country_movie_counts.columns = ['country', 'count']\n",
    "country_movie_counts"
   ]
  },
  {
   "cell_type": "code",
   "execution_count": 91,
   "metadata": {},
   "outputs": [],
   "source": [
    "import pycountry\n",
    "\n",
    "def get_iso_alpha_3(country_name):\n",
    "    try:\n",
    "        return pycountry.countries.lookup(country_name).alpha_3\n",
    "    except LookupError:\n",
    "        return None\n",
    "\n",
    "country_movie_counts['iso_alpha_3'] = country_movie_counts['country'].apply(get_iso_alpha_3)\n",
    "country_movie_counts = country_movie_counts.dropna(subset=['iso_alpha_3'])"
   ]
  },
  {
   "cell_type": "code",
   "execution_count": 102,
   "metadata": {},
   "outputs": [
    {
     "data": {
      "application/vnd.plotly.v1+json": {
       "config": {
        "plotlyServerURL": "https://plot.ly"
       },
       "data": [
        {
         "coloraxis": "coloraxis",
         "geo": "geo",
         "hovertemplate": "<b>%{hovertext}</b><br><br>iso_alpha_3=%{location}<br>Number of Movies=%{z}<extra></extra>",
         "hovertext": [
          "United States",
          "India",
          "United Kingdom",
          "Pakistan",
          "Canada",
          "Japan",
          "South Korea",
          "France",
          "Spain",
          "Mexico",
          "Egypt",
          "Australia",
          "Nigeria",
          "Germany",
          "China",
          "Brazil",
          "Taiwan",
          "Indonesia",
          "Philippines",
          "Hong Kong",
          "Argentina",
          "Italy",
          "Thailand",
          "Colombia",
          "South Africa",
          "Denmark",
          "Poland",
          "Netherlands",
          "Ireland",
          "Singapore",
          "Lebanon",
          "Malaysia",
          "Israel",
          "Chile",
          "Norway",
          "United Arab Emirates",
          "Sweden",
          "Belgium",
          "New Zealand",
          "Saudi Arabia",
          "Romania",
          "Austria",
          "Uruguay",
          "Switzerland",
          "Vietnam",
          "Kuwait",
          "Peru",
          "Finland",
          "Iceland",
          "Czech Republic",
          "Hungary",
          "Bulgaria",
          "Kenya",
          "Ghana",
          "Portugal",
          "Bangladesh",
          "Serbia",
          "Jordan",
          "Croatia",
          "Venezuela",
          "Georgia",
          "Cambodia",
          "Ukraine",
          "Mauritius",
          "Syria",
          "Paraguay",
          "Somalia",
          "Cyprus",
          "Puerto Rico",
          "Belarus",
          "Senegal",
          "Luxembourg",
          "Namibia",
          "Cameroon",
          "Jamaica",
          "Guatemala",
          "Slovenia",
          "Mozambique",
          "Iran",
          "Greece",
          "Zimbabwe"
         ],
         "locations": [
          "USA",
          "IND",
          "GBR",
          "PAK",
          "CAN",
          "JPN",
          "KOR",
          "FRA",
          "ESP",
          "MEX",
          "EGY",
          "AUS",
          "NGA",
          "DEU",
          "CHN",
          "BRA",
          "TWN",
          "IDN",
          "PHL",
          "HKG",
          "ARG",
          "ITA",
          "THA",
          "COL",
          "ZAF",
          "DNK",
          "POL",
          "NLD",
          "IRL",
          "SGP",
          "LBN",
          "MYS",
          "ISR",
          "CHL",
          "NOR",
          "ARE",
          "SWE",
          "BEL",
          "NZL",
          "SAU",
          "ROU",
          "AUT",
          "URY",
          "CHE",
          "VNM",
          "KWT",
          "PER",
          "FIN",
          "ISL",
          "CZE",
          "HUN",
          "BGR",
          "KEN",
          "GHA",
          "PRT",
          "BGD",
          "SRB",
          "JOR",
          "HRV",
          "VEN",
          "GEO",
          "KHM",
          "UKR",
          "MUS",
          "SYR",
          "PRY",
          "SOM",
          "CYP",
          "PRI",
          "BLR",
          "SEN",
          "LUX",
          "NAM",
          "CMR",
          "JAM",
          "GTM",
          "SVN",
          "MOZ",
          "IRN",
          "GRC",
          "ZWE"
         ],
         "name": "",
         "type": "choropleth",
         "z": [
          3240,
          1057,
          638,
          421,
          271,
          259,
          214,
          213,
          182,
          138,
          123,
          114,
          105,
          104,
          100,
          88,
          86,
          86,
          83,
          79,
          76,
          66,
          66,
          42,
          42,
          30,
          30,
          28,
          28,
          28,
          24,
          23,
          22,
          22,
          21,
          21,
          19,
          18,
          17,
          12,
          10,
          9,
          9,
          8,
          7,
          7,
          6,
          6,
          6,
          6,
          5,
          5,
          4,
          4,
          4,
          3,
          3,
          2,
          2,
          2,
          2,
          2,
          2,
          2,
          2,
          1,
          1,
          1,
          1,
          1,
          1,
          1,
          1,
          1,
          1,
          1,
          1,
          1,
          1,
          1,
          1
         ]
        }
       ],
       "layout": {
        "coloraxis": {
         "colorbar": {
          "title": {
           "text": "Number of Movies"
          }
         },
         "colorscale": [
          [
           0,
           "rgb(150,0,90)"
          ],
          [
           0.125,
           "rgb(0,0,200)"
          ],
          [
           0.25,
           "rgb(0,25,255)"
          ],
          [
           0.375,
           "rgb(0,152,255)"
          ],
          [
           0.5,
           "rgb(44,255,150)"
          ],
          [
           0.625,
           "rgb(151,255,0)"
          ],
          [
           0.75,
           "rgb(255,234,0)"
          ],
          [
           0.875,
           "rgb(255,111,0)"
          ],
          [
           1,
           "rgb(255,0,0)"
          ]
         ]
        },
        "geo": {
         "center": {},
         "domain": {
          "x": [
           0,
           1
          ],
          "y": [
           0,
           1
          ]
         },
         "projection": {
          "type": "natural earth"
         }
        },
        "legend": {
         "tracegroupgap": 0
        },
        "margin": {
         "b": 0,
         "l": 0,
         "r": 0,
         "t": 0
        },
        "template": {
         "data": {
          "bar": [
           {
            "error_x": {
             "color": "#2a3f5f"
            },
            "error_y": {
             "color": "#2a3f5f"
            },
            "marker": {
             "line": {
              "color": "#E5ECF6",
              "width": 0.5
             },
             "pattern": {
              "fillmode": "overlay",
              "size": 10,
              "solidity": 0.2
             }
            },
            "type": "bar"
           }
          ],
          "barpolar": [
           {
            "marker": {
             "line": {
              "color": "#E5ECF6",
              "width": 0.5
             },
             "pattern": {
              "fillmode": "overlay",
              "size": 10,
              "solidity": 0.2
             }
            },
            "type": "barpolar"
           }
          ],
          "carpet": [
           {
            "aaxis": {
             "endlinecolor": "#2a3f5f",
             "gridcolor": "white",
             "linecolor": "white",
             "minorgridcolor": "white",
             "startlinecolor": "#2a3f5f"
            },
            "baxis": {
             "endlinecolor": "#2a3f5f",
             "gridcolor": "white",
             "linecolor": "white",
             "minorgridcolor": "white",
             "startlinecolor": "#2a3f5f"
            },
            "type": "carpet"
           }
          ],
          "choropleth": [
           {
            "colorbar": {
             "outlinewidth": 0,
             "ticks": ""
            },
            "type": "choropleth"
           }
          ],
          "contour": [
           {
            "colorbar": {
             "outlinewidth": 0,
             "ticks": ""
            },
            "colorscale": [
             [
              0,
              "#0d0887"
             ],
             [
              0.1111111111111111,
              "#46039f"
             ],
             [
              0.2222222222222222,
              "#7201a8"
             ],
             [
              0.3333333333333333,
              "#9c179e"
             ],
             [
              0.4444444444444444,
              "#bd3786"
             ],
             [
              0.5555555555555556,
              "#d8576b"
             ],
             [
              0.6666666666666666,
              "#ed7953"
             ],
             [
              0.7777777777777778,
              "#fb9f3a"
             ],
             [
              0.8888888888888888,
              "#fdca26"
             ],
             [
              1,
              "#f0f921"
             ]
            ],
            "type": "contour"
           }
          ],
          "contourcarpet": [
           {
            "colorbar": {
             "outlinewidth": 0,
             "ticks": ""
            },
            "type": "contourcarpet"
           }
          ],
          "heatmap": [
           {
            "colorbar": {
             "outlinewidth": 0,
             "ticks": ""
            },
            "colorscale": [
             [
              0,
              "#0d0887"
             ],
             [
              0.1111111111111111,
              "#46039f"
             ],
             [
              0.2222222222222222,
              "#7201a8"
             ],
             [
              0.3333333333333333,
              "#9c179e"
             ],
             [
              0.4444444444444444,
              "#bd3786"
             ],
             [
              0.5555555555555556,
              "#d8576b"
             ],
             [
              0.6666666666666666,
              "#ed7953"
             ],
             [
              0.7777777777777778,
              "#fb9f3a"
             ],
             [
              0.8888888888888888,
              "#fdca26"
             ],
             [
              1,
              "#f0f921"
             ]
            ],
            "type": "heatmap"
           }
          ],
          "heatmapgl": [
           {
            "colorbar": {
             "outlinewidth": 0,
             "ticks": ""
            },
            "colorscale": [
             [
              0,
              "#0d0887"
             ],
             [
              0.1111111111111111,
              "#46039f"
             ],
             [
              0.2222222222222222,
              "#7201a8"
             ],
             [
              0.3333333333333333,
              "#9c179e"
             ],
             [
              0.4444444444444444,
              "#bd3786"
             ],
             [
              0.5555555555555556,
              "#d8576b"
             ],
             [
              0.6666666666666666,
              "#ed7953"
             ],
             [
              0.7777777777777778,
              "#fb9f3a"
             ],
             [
              0.8888888888888888,
              "#fdca26"
             ],
             [
              1,
              "#f0f921"
             ]
            ],
            "type": "heatmapgl"
           }
          ],
          "histogram": [
           {
            "marker": {
             "pattern": {
              "fillmode": "overlay",
              "size": 10,
              "solidity": 0.2
             }
            },
            "type": "histogram"
           }
          ],
          "histogram2d": [
           {
            "colorbar": {
             "outlinewidth": 0,
             "ticks": ""
            },
            "colorscale": [
             [
              0,
              "#0d0887"
             ],
             [
              0.1111111111111111,
              "#46039f"
             ],
             [
              0.2222222222222222,
              "#7201a8"
             ],
             [
              0.3333333333333333,
              "#9c179e"
             ],
             [
              0.4444444444444444,
              "#bd3786"
             ],
             [
              0.5555555555555556,
              "#d8576b"
             ],
             [
              0.6666666666666666,
              "#ed7953"
             ],
             [
              0.7777777777777778,
              "#fb9f3a"
             ],
             [
              0.8888888888888888,
              "#fdca26"
             ],
             [
              1,
              "#f0f921"
             ]
            ],
            "type": "histogram2d"
           }
          ],
          "histogram2dcontour": [
           {
            "colorbar": {
             "outlinewidth": 0,
             "ticks": ""
            },
            "colorscale": [
             [
              0,
              "#0d0887"
             ],
             [
              0.1111111111111111,
              "#46039f"
             ],
             [
              0.2222222222222222,
              "#7201a8"
             ],
             [
              0.3333333333333333,
              "#9c179e"
             ],
             [
              0.4444444444444444,
              "#bd3786"
             ],
             [
              0.5555555555555556,
              "#d8576b"
             ],
             [
              0.6666666666666666,
              "#ed7953"
             ],
             [
              0.7777777777777778,
              "#fb9f3a"
             ],
             [
              0.8888888888888888,
              "#fdca26"
             ],
             [
              1,
              "#f0f921"
             ]
            ],
            "type": "histogram2dcontour"
           }
          ],
          "mesh3d": [
           {
            "colorbar": {
             "outlinewidth": 0,
             "ticks": ""
            },
            "type": "mesh3d"
           }
          ],
          "parcoords": [
           {
            "line": {
             "colorbar": {
              "outlinewidth": 0,
              "ticks": ""
             }
            },
            "type": "parcoords"
           }
          ],
          "pie": [
           {
            "automargin": true,
            "type": "pie"
           }
          ],
          "scatter": [
           {
            "fillpattern": {
             "fillmode": "overlay",
             "size": 10,
             "solidity": 0.2
            },
            "type": "scatter"
           }
          ],
          "scatter3d": [
           {
            "line": {
             "colorbar": {
              "outlinewidth": 0,
              "ticks": ""
             }
            },
            "marker": {
             "colorbar": {
              "outlinewidth": 0,
              "ticks": ""
             }
            },
            "type": "scatter3d"
           }
          ],
          "scattercarpet": [
           {
            "marker": {
             "colorbar": {
              "outlinewidth": 0,
              "ticks": ""
             }
            },
            "type": "scattercarpet"
           }
          ],
          "scattergeo": [
           {
            "marker": {
             "colorbar": {
              "outlinewidth": 0,
              "ticks": ""
             }
            },
            "type": "scattergeo"
           }
          ],
          "scattergl": [
           {
            "marker": {
             "colorbar": {
              "outlinewidth": 0,
              "ticks": ""
             }
            },
            "type": "scattergl"
           }
          ],
          "scattermapbox": [
           {
            "marker": {
             "colorbar": {
              "outlinewidth": 0,
              "ticks": ""
             }
            },
            "type": "scattermapbox"
           }
          ],
          "scatterpolar": [
           {
            "marker": {
             "colorbar": {
              "outlinewidth": 0,
              "ticks": ""
             }
            },
            "type": "scatterpolar"
           }
          ],
          "scatterpolargl": [
           {
            "marker": {
             "colorbar": {
              "outlinewidth": 0,
              "ticks": ""
             }
            },
            "type": "scatterpolargl"
           }
          ],
          "scatterternary": [
           {
            "marker": {
             "colorbar": {
              "outlinewidth": 0,
              "ticks": ""
             }
            },
            "type": "scatterternary"
           }
          ],
          "surface": [
           {
            "colorbar": {
             "outlinewidth": 0,
             "ticks": ""
            },
            "colorscale": [
             [
              0,
              "#0d0887"
             ],
             [
              0.1111111111111111,
              "#46039f"
             ],
             [
              0.2222222222222222,
              "#7201a8"
             ],
             [
              0.3333333333333333,
              "#9c179e"
             ],
             [
              0.4444444444444444,
              "#bd3786"
             ],
             [
              0.5555555555555556,
              "#d8576b"
             ],
             [
              0.6666666666666666,
              "#ed7953"
             ],
             [
              0.7777777777777778,
              "#fb9f3a"
             ],
             [
              0.8888888888888888,
              "#fdca26"
             ],
             [
              1,
              "#f0f921"
             ]
            ],
            "type": "surface"
           }
          ],
          "table": [
           {
            "cells": {
             "fill": {
              "color": "#EBF0F8"
             },
             "line": {
              "color": "white"
             }
            },
            "header": {
             "fill": {
              "color": "#C8D4E3"
             },
             "line": {
              "color": "white"
             }
            },
            "type": "table"
           }
          ]
         },
         "layout": {
          "annotationdefaults": {
           "arrowcolor": "#2a3f5f",
           "arrowhead": 0,
           "arrowwidth": 1
          },
          "autotypenumbers": "strict",
          "coloraxis": {
           "colorbar": {
            "outlinewidth": 0,
            "ticks": ""
           }
          },
          "colorscale": {
           "diverging": [
            [
             0,
             "#8e0152"
            ],
            [
             0.1,
             "#c51b7d"
            ],
            [
             0.2,
             "#de77ae"
            ],
            [
             0.3,
             "#f1b6da"
            ],
            [
             0.4,
             "#fde0ef"
            ],
            [
             0.5,
             "#f7f7f7"
            ],
            [
             0.6,
             "#e6f5d0"
            ],
            [
             0.7,
             "#b8e186"
            ],
            [
             0.8,
             "#7fbc41"
            ],
            [
             0.9,
             "#4d9221"
            ],
            [
             1,
             "#276419"
            ]
           ],
           "sequential": [
            [
             0,
             "#0d0887"
            ],
            [
             0.1111111111111111,
             "#46039f"
            ],
            [
             0.2222222222222222,
             "#7201a8"
            ],
            [
             0.3333333333333333,
             "#9c179e"
            ],
            [
             0.4444444444444444,
             "#bd3786"
            ],
            [
             0.5555555555555556,
             "#d8576b"
            ],
            [
             0.6666666666666666,
             "#ed7953"
            ],
            [
             0.7777777777777778,
             "#fb9f3a"
            ],
            [
             0.8888888888888888,
             "#fdca26"
            ],
            [
             1,
             "#f0f921"
            ]
           ],
           "sequentialminus": [
            [
             0,
             "#0d0887"
            ],
            [
             0.1111111111111111,
             "#46039f"
            ],
            [
             0.2222222222222222,
             "#7201a8"
            ],
            [
             0.3333333333333333,
             "#9c179e"
            ],
            [
             0.4444444444444444,
             "#bd3786"
            ],
            [
             0.5555555555555556,
             "#d8576b"
            ],
            [
             0.6666666666666666,
             "#ed7953"
            ],
            [
             0.7777777777777778,
             "#fb9f3a"
            ],
            [
             0.8888888888888888,
             "#fdca26"
            ],
            [
             1,
             "#f0f921"
            ]
           ]
          },
          "colorway": [
           "#636efa",
           "#EF553B",
           "#00cc96",
           "#ab63fa",
           "#FFA15A",
           "#19d3f3",
           "#FF6692",
           "#B6E880",
           "#FF97FF",
           "#FECB52"
          ],
          "font": {
           "color": "#2a3f5f"
          },
          "geo": {
           "bgcolor": "white",
           "lakecolor": "white",
           "landcolor": "#E5ECF6",
           "showlakes": true,
           "showland": true,
           "subunitcolor": "white"
          },
          "hoverlabel": {
           "align": "left"
          },
          "hovermode": "closest",
          "mapbox": {
           "style": "light"
          },
          "paper_bgcolor": "white",
          "plot_bgcolor": "#E5ECF6",
          "polar": {
           "angularaxis": {
            "gridcolor": "white",
            "linecolor": "white",
            "ticks": ""
           },
           "bgcolor": "#E5ECF6",
           "radialaxis": {
            "gridcolor": "white",
            "linecolor": "white",
            "ticks": ""
           }
          },
          "scene": {
           "xaxis": {
            "backgroundcolor": "#E5ECF6",
            "gridcolor": "white",
            "gridwidth": 2,
            "linecolor": "white",
            "showbackground": true,
            "ticks": "",
            "zerolinecolor": "white"
           },
           "yaxis": {
            "backgroundcolor": "#E5ECF6",
            "gridcolor": "white",
            "gridwidth": 2,
            "linecolor": "white",
            "showbackground": true,
            "ticks": "",
            "zerolinecolor": "white"
           },
           "zaxis": {
            "backgroundcolor": "#E5ECF6",
            "gridcolor": "white",
            "gridwidth": 2,
            "linecolor": "white",
            "showbackground": true,
            "ticks": "",
            "zerolinecolor": "white"
           }
          },
          "shapedefaults": {
           "line": {
            "color": "#2a3f5f"
           }
          },
          "ternary": {
           "aaxis": {
            "gridcolor": "white",
            "linecolor": "white",
            "ticks": ""
           },
           "baxis": {
            "gridcolor": "white",
            "linecolor": "white",
            "ticks": ""
           },
           "bgcolor": "#E5ECF6",
           "caxis": {
            "gridcolor": "white",
            "linecolor": "white",
            "ticks": ""
           }
          },
          "title": {
           "x": 0.05
          },
          "xaxis": {
           "automargin": true,
           "gridcolor": "white",
           "linecolor": "white",
           "ticks": "",
           "title": {
            "standoff": 15
           },
           "zerolinecolor": "white",
           "zerolinewidth": 2
          },
          "yaxis": {
           "automargin": true,
           "gridcolor": "white",
           "linecolor": "white",
           "ticks": "",
           "title": {
            "standoff": 15
           },
           "zerolinecolor": "white",
           "zerolinewidth": 2
          }
         }
        },
        "title": {
         "text": "Number of Movies Produced by Country"
        }
       }
      }
     },
     "metadata": {},
     "output_type": "display_data"
    }
   ],
   "source": [
    "fig = px.choropleth(country_movie_counts, locations='iso_alpha_3', color='count',\n",
    "                    color_continuous_scale=\"rainbow\",\n",
    "                    hover_name='country',\n",
    "                    labels={'count':'Number of Movies'},\n",
    "                    title=\"Number of Movies Produced by Country\")\n",
    "\n",
    "fig.update_geos(projection_type=\"natural earth\")\n",
    "\n",
    "fig.update_layout(margin={\"r\":0,\"t\":0,\"l\":0,\"b\":0})\n",
    "\n",
    "fig.show()"
   ]
  },
  {
   "cell_type": "code",
   "execution_count": null,
   "metadata": {},
   "outputs": [],
   "source": []
  },
  {
   "cell_type": "markdown",
   "metadata": {},
   "source": [
    "#### Top10 Countries producing content on netflix - Seaborn"
   ]
  },
  {
   "cell_type": "code",
   "execution_count": 104,
   "metadata": {},
   "outputs": [
    {
     "name": "stderr",
     "output_type": "stream",
     "text": [
      "/var/folders/1_/485f_kjs17vfb07d7xcpf_sr0000gp/T/ipykernel_64000/358636623.py:5: FutureWarning:\n",
      "\n",
      "\n",
      "\n",
      "Passing `palette` without assigning `hue` is deprecated and will be removed in v0.14.0. Assign the `y` variable to `hue` and set `legend=False` for the same effect.\n",
      "\n",
      "\n"
     ]
    },
    {
     "data": {
      "image/png": "[encoded data removed]",
      "text/plain": [
       "<Figure size 1200x800 with 1 Axes>"
      ]
     },
     "metadata": {},
     "output_type": "display_data"
    }
   ],
   "source": [
    "\n",
    "top_countries = country_movie_counts[:10]\n",
    "\n",
    "# Create the countplot\n",
    "plt.figure(figsize=(12, 8))\n",
    "sns.barplot(data=top_countries, x='count', y='country', palette='pastel')\n",
    "plt.title('Number of Movies Produced by Country (Top 20)')\n",
    "plt.xlabel('Number of Movies')\n",
    "plt.ylabel('Country')\n",
    "plt.show()"
   ]
  },
  {
   "cell_type": "markdown",
   "metadata": {},
   "source": [
    "#### Top50 TV Shows in terms of season - Seaborn"
   ]
  },
  {
   "cell_type": "code",
   "execution_count": 125,
   "metadata": {},
   "outputs": [
    {
     "name": "stderr",
     "output_type": "stream",
     "text": [
      "/var/folders/1_/485f_kjs17vfb07d7xcpf_sr0000gp/T/ipykernel_64000/3890769720.py:2: SettingWithCopyWarning:\n",
      "\n",
      "\n",
      "A value is trying to be set on a copy of a slice from a DataFrame.\n",
      "Try using .loc[row_indexer,col_indexer] = value instead\n",
      "\n",
      "See the caveats in the documentation: https://pandas.pydata.org/pandas-docs/stable/user_guide/indexing.html#returning-a-view-versus-a-copy\n",
      "\n"
     ]
    },
    {
     "data": {
      "text/html": [
       "<div>\n",
       "<style scoped>\n",
       "    .dataframe tbody tr th:only-of-type {\n",
       "        vertical-align: middle;\n",
       "    }\n",
       "\n",
       "    .dataframe tbody tr th {\n",
       "        vertical-align: top;\n",
       "    }\n",
       "\n",
       "    .dataframe thead th {\n",
       "        text-align: right;\n",
       "    }\n",
       "</style>\n",
       "<table border=\"1\" class=\"dataframe\">\n",
       "  <thead>\n",
       "    <tr style=\"text-align: right;\">\n",
       "      <th></th>\n",
       "      <th>title</th>\n",
       "      <th>no_of_seasons</th>\n",
       "    </tr>\n",
       "  </thead>\n",
       "  <tbody>\n",
       "    <tr>\n",
       "      <th>6697</th>\n",
       "      <td>Grey's Anatomy</td>\n",
       "      <td>17</td>\n",
       "    </tr>\n",
       "    <tr>\n",
       "      <th>1971</th>\n",
       "      <td>Supernatural</td>\n",
       "      <td>15</td>\n",
       "    </tr>\n",
       "    <tr>\n",
       "      <th>7987</th>\n",
       "      <td>NCIS</td>\n",
       "      <td>15</td>\n",
       "    </tr>\n",
       "    <tr>\n",
       "      <th>7816</th>\n",
       "      <td>COMEDIANS of the world</td>\n",
       "      <td>13</td>\n",
       "    </tr>\n",
       "    <tr>\n",
       "      <th>6884</th>\n",
       "      <td>Heartland</td>\n",
       "      <td>13</td>\n",
       "    </tr>\n",
       "    <tr>\n",
       "      <th>8164</th>\n",
       "      <td>Criminal Minds</td>\n",
       "      <td>12</td>\n",
       "    </tr>\n",
       "    <tr>\n",
       "      <th>8024</th>\n",
       "      <td>Trailer Park Boys</td>\n",
       "      <td>12</td>\n",
       "    </tr>\n",
       "    <tr>\n",
       "      <th>8391</th>\n",
       "      <td>Cheers</td>\n",
       "      <td>11</td>\n",
       "    </tr>\n",
       "    <tr>\n",
       "      <th>7018</th>\n",
       "      <td>LEGO Ninjago: Masters of Spinjitzu</td>\n",
       "      <td>10</td>\n",
       "    </tr>\n",
       "    <tr>\n",
       "      <th>8311</th>\n",
       "      <td>Danger Mouse: Classic Collection</td>\n",
       "      <td>10</td>\n",
       "    </tr>\n",
       "    <tr>\n",
       "      <th>8409</th>\n",
       "      <td>Dad's Army</td>\n",
       "      <td>10</td>\n",
       "    </tr>\n",
       "    <tr>\n",
       "      <th>6645</th>\n",
       "      <td>The Walking Dead</td>\n",
       "      <td>10</td>\n",
       "    </tr>\n",
       "    <tr>\n",
       "      <th>7161</th>\n",
       "      <td>Shameless (U.S.)</td>\n",
       "      <td>10</td>\n",
       "    </tr>\n",
       "    <tr>\n",
       "      <th>6972</th>\n",
       "      <td>Stargate SG-1</td>\n",
       "      <td>10</td>\n",
       "    </tr>\n",
       "    <tr>\n",
       "      <th>551</th>\n",
       "      <td>Club Friday The Series 6</td>\n",
       "      <td>9</td>\n",
       "    </tr>\n",
       "    <tr>\n",
       "      <th>2690</th>\n",
       "      <td>Naruto</td>\n",
       "      <td>9</td>\n",
       "    </tr>\n",
       "    <tr>\n",
       "      <th>6995</th>\n",
       "      <td>American Horror Story</td>\n",
       "      <td>9</td>\n",
       "    </tr>\n",
       "    <tr>\n",
       "      <th>8735</th>\n",
       "      <td>The Office (U.S.)</td>\n",
       "      <td>9</td>\n",
       "    </tr>\n",
       "    <tr>\n",
       "      <th>1689</th>\n",
       "      <td>Call the Midwife</td>\n",
       "      <td>9</td>\n",
       "    </tr>\n",
       "    <tr>\n",
       "      <th>6927</th>\n",
       "      <td>Still Game</td>\n",
       "      <td>9</td>\n",
       "    </tr>\n",
       "    <tr>\n",
       "      <th>8277</th>\n",
       "      <td>Forensic Files</td>\n",
       "      <td>9</td>\n",
       "    </tr>\n",
       "    <tr>\n",
       "      <th>6584</th>\n",
       "      <td>Saved by the Bell</td>\n",
       "      <td>9</td>\n",
       "    </tr>\n",
       "    <tr>\n",
       "      <th>5</th>\n",
       "      <td>The Great British Baking Show</td>\n",
       "      <td>9</td>\n",
       "    </tr>\n",
       "    <tr>\n",
       "      <th>8421</th>\n",
       "      <td>Dexter</td>\n",
       "      <td>8</td>\n",
       "    </tr>\n",
       "    <tr>\n",
       "      <th>7851</th>\n",
       "      <td>Voltron: Legendary Defender</td>\n",
       "      <td>8</td>\n",
       "    </tr>\n",
       "    <tr>\n",
       "      <th>2335</th>\n",
       "      <td>Arrow</td>\n",
       "      <td>8</td>\n",
       "    </tr>\n",
       "    <tr>\n",
       "      <th>7736</th>\n",
       "      <td>Spirit: Riding Free</td>\n",
       "      <td>8</td>\n",
       "    </tr>\n",
       "    <tr>\n",
       "      <th>3652</th>\n",
       "      <td>Under Arrest</td>\n",
       "      <td>8</td>\n",
       "    </tr>\n",
       "    <tr>\n",
       "      <th>6681</th>\n",
       "      <td>My Little Pony: Friendship Is Magic</td>\n",
       "      <td>8</td>\n",
       "    </tr>\n",
       "    <tr>\n",
       "      <th>7090</th>\n",
       "      <td>Girlfriends</td>\n",
       "      <td>8</td>\n",
       "    </tr>\n",
       "    <tr>\n",
       "      <th>550</th>\n",
       "      <td>Club Friday The Series 8</td>\n",
       "      <td>8</td>\n",
       "    </tr>\n",
       "    <tr>\n",
       "      <th>8693</th>\n",
       "      <td>That '70s Show</td>\n",
       "      <td>8</td>\n",
       "    </tr>\n",
       "    <tr>\n",
       "      <th>5782</th>\n",
       "      <td>Royal Pains</td>\n",
       "      <td>8</td>\n",
       "    </tr>\n",
       "    <tr>\n",
       "      <th>8768</th>\n",
       "      <td>Weeds</td>\n",
       "      <td>8</td>\n",
       "    </tr>\n",
       "    <tr>\n",
       "      <th>8697</th>\n",
       "      <td>The Andy Griffith Show</td>\n",
       "      <td>8</td>\n",
       "    </tr>\n",
       "    <tr>\n",
       "      <th>7067</th>\n",
       "      <td>Wentworth</td>\n",
       "      <td>8</td>\n",
       "    </tr>\n",
       "    <tr>\n",
       "      <th>8122</th>\n",
       "      <td>The Vampire Diaries</td>\n",
       "      <td>8</td>\n",
       "    </tr>\n",
       "    <tr>\n",
       "      <th>7382</th>\n",
       "      <td>The Ranch</td>\n",
       "      <td>8</td>\n",
       "    </tr>\n",
       "    <tr>\n",
       "      <th>5693</th>\n",
       "      <td>Portlandia</td>\n",
       "      <td>8</td>\n",
       "    </tr>\n",
       "    <tr>\n",
       "      <th>7465</th>\n",
       "      <td>Trolls: The Beat Goes On!</td>\n",
       "      <td>8</td>\n",
       "    </tr>\n",
       "    <tr>\n",
       "      <th>8606</th>\n",
       "      <td>Parks and Recreation</td>\n",
       "      <td>7</td>\n",
       "    </tr>\n",
       "    <tr>\n",
       "      <th>2914</th>\n",
       "      <td>New Girl</td>\n",
       "      <td>7</td>\n",
       "    </tr>\n",
       "    <tr>\n",
       "      <th>8219</th>\n",
       "      <td>Star Trek: Deep Space Nine</td>\n",
       "      <td>7</td>\n",
       "    </tr>\n",
       "    <tr>\n",
       "      <th>6980</th>\n",
       "      <td>Heartbreak High</td>\n",
       "      <td>7</td>\n",
       "    </tr>\n",
       "    <tr>\n",
       "      <th>7024</th>\n",
       "      <td>Marvel's Agents of S.H.I.E.L.D.</td>\n",
       "      <td>7</td>\n",
       "    </tr>\n",
       "    <tr>\n",
       "      <th>7248</th>\n",
       "      <td>El señor de los Cielos</td>\n",
       "      <td>7</td>\n",
       "    </tr>\n",
       "    <tr>\n",
       "      <th>6793</th>\n",
       "      <td>Gilmore Girls</td>\n",
       "      <td>7</td>\n",
       "    </tr>\n",
       "    <tr>\n",
       "      <th>8105</th>\n",
       "      <td>Star Trek: Voyager</td>\n",
       "      <td>7</td>\n",
       "    </tr>\n",
       "    <tr>\n",
       "      <th>8655</th>\n",
       "      <td>Scandal</td>\n",
       "      <td>7</td>\n",
       "    </tr>\n",
       "    <tr>\n",
       "      <th>8115</th>\n",
       "      <td>Offspring</td>\n",
       "      <td>7</td>\n",
       "    </tr>\n",
       "  </tbody>\n",
       "</table>\n",
       "</div>"
      ],
      "text/plain": [
       "                                    title  no_of_seasons\n",
       "6697                       Grey's Anatomy             17\n",
       "1971                         Supernatural             15\n",
       "7987                                 NCIS             15\n",
       "7816               COMEDIANS of the world             13\n",
       "6884                            Heartland             13\n",
       "8164                       Criminal Minds             12\n",
       "8024                    Trailer Park Boys             12\n",
       "8391                               Cheers             11\n",
       "7018   LEGO Ninjago: Masters of Spinjitzu             10\n",
       "8311     Danger Mouse: Classic Collection             10\n",
       "8409                           Dad's Army             10\n",
       "6645                     The Walking Dead             10\n",
       "7161                     Shameless (U.S.)             10\n",
       "6972                        Stargate SG-1             10\n",
       "551              Club Friday The Series 6              9\n",
       "2690                               Naruto              9\n",
       "6995                American Horror Story              9\n",
       "8735                    The Office (U.S.)              9\n",
       "1689                     Call the Midwife              9\n",
       "6927                           Still Game              9\n",
       "8277                       Forensic Files              9\n",
       "6584                    Saved by the Bell              9\n",
       "5           The Great British Baking Show              9\n",
       "8421                               Dexter              8\n",
       "7851          Voltron: Legendary Defender              8\n",
       "2335                                Arrow              8\n",
       "7736                  Spirit: Riding Free              8\n",
       "3652                         Under Arrest              8\n",
       "6681  My Little Pony: Friendship Is Magic              8\n",
       "7090                          Girlfriends              8\n",
       "550              Club Friday The Series 8              8\n",
       "8693                       That '70s Show              8\n",
       "5782                          Royal Pains              8\n",
       "8768                                Weeds              8\n",
       "8697               The Andy Griffith Show              8\n",
       "7067                            Wentworth              8\n",
       "8122                  The Vampire Diaries              8\n",
       "7382                            The Ranch              8\n",
       "5693                           Portlandia              8\n",
       "7465            Trolls: The Beat Goes On!              8\n",
       "8606                 Parks and Recreation              7\n",
       "2914                             New Girl              7\n",
       "8219           Star Trek: Deep Space Nine              7\n",
       "6980                      Heartbreak High              7\n",
       "7024      Marvel's Agents of S.H.I.E.L.D.              7\n",
       "7248               El señor de los Cielos              7\n",
       "6793                        Gilmore Girls              7\n",
       "8105                   Star Trek: Voyager              7\n",
       "8655                              Scandal              7\n",
       "8115                            Offspring              7"
      ]
     },
     "execution_count": 125,
     "metadata": {},
     "output_type": "execute_result"
    }
   ],
   "source": [
    "tv = df[df['type'] == 'TV Show']\n",
    "tv['no_of_seasons'] = tv['duration'].str.extract(r'(\\d+)').astype(int)\n",
    "\n",
    "top_tv = tv.sort_values(by='no_of_seasons', ascending=False).head(50)\n",
    "country_wise_top_tv = top_tv[['title', 'no_of_seasons','country']]\n",
    "top_tv[['title', 'no_of_seasons']]"
   ]
  },
  {
   "cell_type": "code",
   "execution_count": 128,
   "metadata": {},
   "outputs": [
    {
     "data": {
      "text/html": [
       "<div>\n",
       "<style scoped>\n",
       "    .dataframe tbody tr th:only-of-type {\n",
       "        vertical-align: middle;\n",
       "    }\n",
       "\n",
       "    .dataframe tbody tr th {\n",
       "        vertical-align: top;\n",
       "    }\n",
       "\n",
       "    .dataframe thead th {\n",
       "        text-align: right;\n",
       "    }\n",
       "</style>\n",
       "<table border=\"1\" class=\"dataframe\">\n",
       "  <thead>\n",
       "    <tr style=\"text-align: right;\">\n",
       "      <th></th>\n",
       "      <th>title</th>\n",
       "      <th>no_of_seasons</th>\n",
       "      <th>country</th>\n",
       "    </tr>\n",
       "  </thead>\n",
       "  <tbody>\n",
       "    <tr>\n",
       "      <th>6697</th>\n",
       "      <td>Grey's Anatomy</td>\n",
       "      <td>17</td>\n",
       "      <td>United States</td>\n",
       "    </tr>\n",
       "    <tr>\n",
       "      <th>1971</th>\n",
       "      <td>Supernatural</td>\n",
       "      <td>15</td>\n",
       "      <td>United States</td>\n",
       "    </tr>\n",
       "    <tr>\n",
       "      <th>7987</th>\n",
       "      <td>NCIS</td>\n",
       "      <td>15</td>\n",
       "      <td>United States</td>\n",
       "    </tr>\n",
       "    <tr>\n",
       "      <th>7816</th>\n",
       "      <td>COMEDIANS of the world</td>\n",
       "      <td>13</td>\n",
       "      <td>United States</td>\n",
       "    </tr>\n",
       "    <tr>\n",
       "      <th>6884</th>\n",
       "      <td>Heartland</td>\n",
       "      <td>13</td>\n",
       "      <td>Canada</td>\n",
       "    </tr>\n",
       "    <tr>\n",
       "      <th>8164</th>\n",
       "      <td>Criminal Minds</td>\n",
       "      <td>12</td>\n",
       "      <td>United States</td>\n",
       "    </tr>\n",
       "    <tr>\n",
       "      <th>8024</th>\n",
       "      <td>Trailer Park Boys</td>\n",
       "      <td>12</td>\n",
       "      <td>Canada</td>\n",
       "    </tr>\n",
       "    <tr>\n",
       "      <th>8391</th>\n",
       "      <td>Cheers</td>\n",
       "      <td>11</td>\n",
       "      <td>United States</td>\n",
       "    </tr>\n",
       "    <tr>\n",
       "      <th>7018</th>\n",
       "      <td>LEGO Ninjago: Masters of Spinjitzu</td>\n",
       "      <td>10</td>\n",
       "      <td>Denmark</td>\n",
       "    </tr>\n",
       "    <tr>\n",
       "      <th>8311</th>\n",
       "      <td>Danger Mouse: Classic Collection</td>\n",
       "      <td>10</td>\n",
       "      <td>United Kingdom</td>\n",
       "    </tr>\n",
       "    <tr>\n",
       "      <th>8409</th>\n",
       "      <td>Dad's Army</td>\n",
       "      <td>10</td>\n",
       "      <td>United Kingdom</td>\n",
       "    </tr>\n",
       "    <tr>\n",
       "      <th>6645</th>\n",
       "      <td>The Walking Dead</td>\n",
       "      <td>10</td>\n",
       "      <td>United States</td>\n",
       "    </tr>\n",
       "    <tr>\n",
       "      <th>7161</th>\n",
       "      <td>Shameless (U.S.)</td>\n",
       "      <td>10</td>\n",
       "      <td>United States</td>\n",
       "    </tr>\n",
       "    <tr>\n",
       "      <th>6972</th>\n",
       "      <td>Stargate SG-1</td>\n",
       "      <td>10</td>\n",
       "      <td>United States</td>\n",
       "    </tr>\n",
       "    <tr>\n",
       "      <th>551</th>\n",
       "      <td>Club Friday The Series 6</td>\n",
       "      <td>9</td>\n",
       "      <td>Pakistan</td>\n",
       "    </tr>\n",
       "    <tr>\n",
       "      <th>2690</th>\n",
       "      <td>Naruto</td>\n",
       "      <td>9</td>\n",
       "      <td>Japan</td>\n",
       "    </tr>\n",
       "    <tr>\n",
       "      <th>6995</th>\n",
       "      <td>American Horror Story</td>\n",
       "      <td>9</td>\n",
       "      <td>United States</td>\n",
       "    </tr>\n",
       "    <tr>\n",
       "      <th>8735</th>\n",
       "      <td>The Office (U.S.)</td>\n",
       "      <td>9</td>\n",
       "      <td>United States</td>\n",
       "    </tr>\n",
       "    <tr>\n",
       "      <th>1689</th>\n",
       "      <td>Call the Midwife</td>\n",
       "      <td>9</td>\n",
       "      <td>United Kingdom</td>\n",
       "    </tr>\n",
       "    <tr>\n",
       "      <th>6927</th>\n",
       "      <td>Still Game</td>\n",
       "      <td>9</td>\n",
       "      <td>United Kingdom</td>\n",
       "    </tr>\n",
       "    <tr>\n",
       "      <th>8277</th>\n",
       "      <td>Forensic Files</td>\n",
       "      <td>9</td>\n",
       "      <td>United States</td>\n",
       "    </tr>\n",
       "    <tr>\n",
       "      <th>6584</th>\n",
       "      <td>Saved by the Bell</td>\n",
       "      <td>9</td>\n",
       "      <td>United States</td>\n",
       "    </tr>\n",
       "    <tr>\n",
       "      <th>5</th>\n",
       "      <td>The Great British Baking Show</td>\n",
       "      <td>9</td>\n",
       "      <td>United Kingdom</td>\n",
       "    </tr>\n",
       "    <tr>\n",
       "      <th>8421</th>\n",
       "      <td>Dexter</td>\n",
       "      <td>8</td>\n",
       "      <td>United States</td>\n",
       "    </tr>\n",
       "    <tr>\n",
       "      <th>7851</th>\n",
       "      <td>Voltron: Legendary Defender</td>\n",
       "      <td>8</td>\n",
       "      <td>United States</td>\n",
       "    </tr>\n",
       "    <tr>\n",
       "      <th>2335</th>\n",
       "      <td>Arrow</td>\n",
       "      <td>8</td>\n",
       "      <td>United States</td>\n",
       "    </tr>\n",
       "    <tr>\n",
       "      <th>7736</th>\n",
       "      <td>Spirit: Riding Free</td>\n",
       "      <td>8</td>\n",
       "      <td>United States</td>\n",
       "    </tr>\n",
       "    <tr>\n",
       "      <th>3652</th>\n",
       "      <td>Under Arrest</td>\n",
       "      <td>8</td>\n",
       "      <td>United States</td>\n",
       "    </tr>\n",
       "    <tr>\n",
       "      <th>6681</th>\n",
       "      <td>My Little Pony: Friendship Is Magic</td>\n",
       "      <td>8</td>\n",
       "      <td>United States</td>\n",
       "    </tr>\n",
       "    <tr>\n",
       "      <th>7090</th>\n",
       "      <td>Girlfriends</td>\n",
       "      <td>8</td>\n",
       "      <td>United States</td>\n",
       "    </tr>\n",
       "    <tr>\n",
       "      <th>550</th>\n",
       "      <td>Club Friday The Series 8</td>\n",
       "      <td>8</td>\n",
       "      <td>Pakistan</td>\n",
       "    </tr>\n",
       "    <tr>\n",
       "      <th>8693</th>\n",
       "      <td>That '70s Show</td>\n",
       "      <td>8</td>\n",
       "      <td>United States</td>\n",
       "    </tr>\n",
       "    <tr>\n",
       "      <th>5782</th>\n",
       "      <td>Royal Pains</td>\n",
       "      <td>8</td>\n",
       "      <td>United States</td>\n",
       "    </tr>\n",
       "    <tr>\n",
       "      <th>8768</th>\n",
       "      <td>Weeds</td>\n",
       "      <td>8</td>\n",
       "      <td>United States</td>\n",
       "    </tr>\n",
       "    <tr>\n",
       "      <th>8697</th>\n",
       "      <td>The Andy Griffith Show</td>\n",
       "      <td>8</td>\n",
       "      <td>United States</td>\n",
       "    </tr>\n",
       "    <tr>\n",
       "      <th>7067</th>\n",
       "      <td>Wentworth</td>\n",
       "      <td>8</td>\n",
       "      <td>Australia</td>\n",
       "    </tr>\n",
       "    <tr>\n",
       "      <th>8122</th>\n",
       "      <td>The Vampire Diaries</td>\n",
       "      <td>8</td>\n",
       "      <td>United States</td>\n",
       "    </tr>\n",
       "    <tr>\n",
       "      <th>7382</th>\n",
       "      <td>The Ranch</td>\n",
       "      <td>8</td>\n",
       "      <td>United States</td>\n",
       "    </tr>\n",
       "    <tr>\n",
       "      <th>5693</th>\n",
       "      <td>Portlandia</td>\n",
       "      <td>8</td>\n",
       "      <td>United States</td>\n",
       "    </tr>\n",
       "    <tr>\n",
       "      <th>7465</th>\n",
       "      <td>Trolls: The Beat Goes On!</td>\n",
       "      <td>8</td>\n",
       "      <td>United States</td>\n",
       "    </tr>\n",
       "    <tr>\n",
       "      <th>8606</th>\n",
       "      <td>Parks and Recreation</td>\n",
       "      <td>7</td>\n",
       "      <td>United States</td>\n",
       "    </tr>\n",
       "    <tr>\n",
       "      <th>2914</th>\n",
       "      <td>New Girl</td>\n",
       "      <td>7</td>\n",
       "      <td>United States</td>\n",
       "    </tr>\n",
       "    <tr>\n",
       "      <th>8219</th>\n",
       "      <td>Star Trek: Deep Space Nine</td>\n",
       "      <td>7</td>\n",
       "      <td>United States</td>\n",
       "    </tr>\n",
       "    <tr>\n",
       "      <th>6980</th>\n",
       "      <td>Heartbreak High</td>\n",
       "      <td>7</td>\n",
       "      <td>Australia</td>\n",
       "    </tr>\n",
       "    <tr>\n",
       "      <th>7024</th>\n",
       "      <td>Marvel's Agents of S.H.I.E.L.D.</td>\n",
       "      <td>7</td>\n",
       "      <td>United States</td>\n",
       "    </tr>\n",
       "    <tr>\n",
       "      <th>7248</th>\n",
       "      <td>El señor de los Cielos</td>\n",
       "      <td>7</td>\n",
       "      <td>United States</td>\n",
       "    </tr>\n",
       "    <tr>\n",
       "      <th>6793</th>\n",
       "      <td>Gilmore Girls</td>\n",
       "      <td>7</td>\n",
       "      <td>United States</td>\n",
       "    </tr>\n",
       "    <tr>\n",
       "      <th>8105</th>\n",
       "      <td>Star Trek: Voyager</td>\n",
       "      <td>7</td>\n",
       "      <td>United States</td>\n",
       "    </tr>\n",
       "    <tr>\n",
       "      <th>8655</th>\n",
       "      <td>Scandal</td>\n",
       "      <td>7</td>\n",
       "      <td>United States</td>\n",
       "    </tr>\n",
       "    <tr>\n",
       "      <th>8115</th>\n",
       "      <td>Offspring</td>\n",
       "      <td>7</td>\n",
       "      <td>Australia</td>\n",
       "    </tr>\n",
       "  </tbody>\n",
       "</table>\n",
       "</div>"
      ],
      "text/plain": [
       "                                    title  no_of_seasons         country\n",
       "6697                       Grey's Anatomy             17   United States\n",
       "1971                         Supernatural             15   United States\n",
       "7987                                 NCIS             15   United States\n",
       "7816               COMEDIANS of the world             13   United States\n",
       "6884                            Heartland             13          Canada\n",
       "8164                       Criminal Minds             12   United States\n",
       "8024                    Trailer Park Boys             12          Canada\n",
       "8391                               Cheers             11   United States\n",
       "7018   LEGO Ninjago: Masters of Spinjitzu             10         Denmark\n",
       "8311     Danger Mouse: Classic Collection             10  United Kingdom\n",
       "8409                           Dad's Army             10  United Kingdom\n",
       "6645                     The Walking Dead             10   United States\n",
       "7161                     Shameless (U.S.)             10   United States\n",
       "6972                        Stargate SG-1             10   United States\n",
       "551              Club Friday The Series 6              9        Pakistan\n",
       "2690                               Naruto              9           Japan\n",
       "6995                American Horror Story              9   United States\n",
       "8735                    The Office (U.S.)              9   United States\n",
       "1689                     Call the Midwife              9  United Kingdom\n",
       "6927                           Still Game              9  United Kingdom\n",
       "8277                       Forensic Files              9   United States\n",
       "6584                    Saved by the Bell              9   United States\n",
       "5           The Great British Baking Show              9  United Kingdom\n",
       "8421                               Dexter              8   United States\n",
       "7851          Voltron: Legendary Defender              8   United States\n",
       "2335                                Arrow              8   United States\n",
       "7736                  Spirit: Riding Free              8   United States\n",
       "3652                         Under Arrest              8   United States\n",
       "6681  My Little Pony: Friendship Is Magic              8   United States\n",
       "7090                          Girlfriends              8   United States\n",
       "550              Club Friday The Series 8              8        Pakistan\n",
       "8693                       That '70s Show              8   United States\n",
       "5782                          Royal Pains              8   United States\n",
       "8768                                Weeds              8   United States\n",
       "8697               The Andy Griffith Show              8   United States\n",
       "7067                            Wentworth              8       Australia\n",
       "8122                  The Vampire Diaries              8   United States\n",
       "7382                            The Ranch              8   United States\n",
       "5693                           Portlandia              8   United States\n",
       "7465            Trolls: The Beat Goes On!              8   United States\n",
       "8606                 Parks and Recreation              7   United States\n",
       "2914                             New Girl              7   United States\n",
       "8219           Star Trek: Deep Space Nine              7   United States\n",
       "6980                      Heartbreak High              7       Australia\n",
       "7024      Marvel's Agents of S.H.I.E.L.D.              7   United States\n",
       "7248               El señor de los Cielos              7   United States\n",
       "6793                        Gilmore Girls              7   United States\n",
       "8105                   Star Trek: Voyager              7   United States\n",
       "8655                              Scandal              7   United States\n",
       "8115                            Offspring              7       Australia"
      ]
     },
     "execution_count": 128,
     "metadata": {},
     "output_type": "execute_result"
    }
   ],
   "source": [
    "country_wise_top_tv"
   ]
  },
  {
   "cell_type": "code",
   "execution_count": 135,
   "metadata": {},
   "outputs": [
    {
     "name": "stderr",
     "output_type": "stream",
     "text": [
      "/var/folders/1_/485f_kjs17vfb07d7xcpf_sr0000gp/T/ipykernel_64000/4124749043.py:2: FutureWarning:\n",
      "\n",
      "\n",
      "\n",
      "Passing `palette` without assigning `hue` is deprecated and will be removed in v0.14.0. Assign the `x` variable to `hue` and set `legend=False` for the same effect.\n",
      "\n",
      "\n"
     ]
    },
    {
     "data": {
      "image/png": "[encoded data removed]",
      "text/plain": [
       "<Figure size 1600x1000 with 1 Axes>"
      ]
     },
     "metadata": {},
     "output_type": "display_data"
    }
   ],
   "source": [
    "plt.figure(figsize=(16, 10))\n",
    "sns.barplot(data=top_tv, x='title', y='no_of_seasons', palette='pastel')\n",
    "plt.title('Top 50 TV Shows with the Highest Number of Seasons')\n",
    "plt.xlabel('TV Show Title')\n",
    "plt.ylabel('Number of Seasons')\n",
    "plt.xticks(rotation=90)  # Rotate x-axis labels to fit long titles\n",
    "plt.show()"
   ]
  },
  {
   "cell_type": "markdown",
   "metadata": {},
   "source": [
    "#### Top Countries with most TV Shows in terms of season - Seaborn"
   ]
  },
  {
   "cell_type": "code",
   "execution_count": 136,
   "metadata": {},
   "outputs": [
    {
     "data": {
      "text/html": [
       "<div>\n",
       "<style scoped>\n",
       "    .dataframe tbody tr th:only-of-type {\n",
       "        vertical-align: middle;\n",
       "    }\n",
       "\n",
       "    .dataframe tbody tr th {\n",
       "        vertical-align: top;\n",
       "    }\n",
       "\n",
       "    .dataframe thead th {\n",
       "        text-align: right;\n",
       "    }\n",
       "</style>\n",
       "<table border=\"1\" class=\"dataframe\">\n",
       "  <thead>\n",
       "    <tr style=\"text-align: right;\">\n",
       "      <th></th>\n",
       "      <th>country</th>\n",
       "      <th>number_of_shows</th>\n",
       "    </tr>\n",
       "  </thead>\n",
       "  <tbody>\n",
       "    <tr>\n",
       "      <th>0</th>\n",
       "      <td>United States</td>\n",
       "      <td>36</td>\n",
       "    </tr>\n",
       "    <tr>\n",
       "      <th>1</th>\n",
       "      <td>United Kingdom</td>\n",
       "      <td>5</td>\n",
       "    </tr>\n",
       "    <tr>\n",
       "      <th>2</th>\n",
       "      <td>Australia</td>\n",
       "      <td>3</td>\n",
       "    </tr>\n",
       "    <tr>\n",
       "      <th>3</th>\n",
       "      <td>Canada</td>\n",
       "      <td>2</td>\n",
       "    </tr>\n",
       "    <tr>\n",
       "      <th>4</th>\n",
       "      <td>Pakistan</td>\n",
       "      <td>2</td>\n",
       "    </tr>\n",
       "    <tr>\n",
       "      <th>5</th>\n",
       "      <td>Denmark</td>\n",
       "      <td>1</td>\n",
       "    </tr>\n",
       "    <tr>\n",
       "      <th>6</th>\n",
       "      <td>Japan</td>\n",
       "      <td>1</td>\n",
       "    </tr>\n",
       "  </tbody>\n",
       "</table>\n",
       "</div>"
      ],
      "text/plain": [
       "          country  number_of_shows\n",
       "0   United States               36\n",
       "1  United Kingdom                5\n",
       "2       Australia                3\n",
       "3          Canada                2\n",
       "4        Pakistan                2\n",
       "5         Denmark                1\n",
       "6           Japan                1"
      ]
     },
     "execution_count": 136,
     "metadata": {},
     "output_type": "execute_result"
    }
   ],
   "source": [
    "country_counts = country_wise_top_tv['country'].value_counts().reset_index()\n",
    "country_counts.columns = ['country', 'number_of_shows']\n",
    "country_counts"
   ]
  },
  {
   "cell_type": "code",
   "execution_count": 140,
   "metadata": {},
   "outputs": [
    {
     "name": "stderr",
     "output_type": "stream",
     "text": [
      "/var/folders/1_/485f_kjs17vfb07d7xcpf_sr0000gp/T/ipykernel_64000/2045960229.py:2: FutureWarning:\n",
      "\n",
      "\n",
      "\n",
      "Passing `palette` without assigning `hue` is deprecated and will be removed in v0.14.0. Assign the `x` variable to `hue` and set `legend=False` for the same effect.\n",
      "\n",
      "\n"
     ]
    },
    {
     "data": {
      "image/png": "[encoded data removed]",
      "text/plain": [
       "<Figure size 1600x1000 with 1 Axes>"
      ]
     },
     "metadata": {},
     "output_type": "display_data"
    }
   ],
   "source": [
    "plt.figure(figsize=(16, 10))\n",
    "sns.barplot(data=country_counts, x='country', y='number_of_shows', palette='pastel')\n",
    "plt.title('Top Countries with most TV Shows in terms of season')\n",
    "plt.xlabel('Country')\n",
    "plt.ylabel('Number of Shows having more than 7 seasons')\n",
    "plt.xticks(rotation=90)  # Rotate x-axis labels to fit long titles\n",
    "plt.show()"
   ]
  },
  {
   "cell_type": "code",
   "execution_count": null,
   "metadata": {},
   "outputs": [],
   "source": []
  },
  {
   "cell_type": "code",
   "execution_count": null,
   "metadata": {},
   "outputs": [],
   "source": [
    "# Load the ggplot2 package\n",
    "library(ggplot2)\n",
    "\n",
    "# Load the data\n",
    "netflix <- read.csv(\"netflix1.csv\")\n",
    "\n",
    "ggplot(data = netflix, aes(x = release_year, y = rating)) +\n",
    "  geom_point() +\n",
    "  labs(title = \"Netflix Movies and TV Shows\",\n",
    "       x = \"release_year\",\n",
    "       y = \"rating\") +\n",
    "  theme_minimal() +\n",
    "  theme(plot.title = element_text(hjust = 0.5))\n",
    "\n",
    "ggplot(data = netflix, aes(x = type)) +\n",
    "  geom_bar() +\n",
    "  labs(title = \"Netflix Movies and TV Shows\",\n",
    "       x = \"Type\",\n",
    "       y = \"Count\") +\n",
    "  theme_minimal() +\n",
    "  theme(plot.title = element_text(hjust = 0.5))\n",
    "\n",
    "ggplot(data = netflix, aes(x = factor(\"\", levels = \"\"), fill = type)) +\n",
    "  geom_bar(width = 1) +\n",
    "  coord_polar(\"y\") +\n",
    "  labs(title = \"Netflix Movies and TV Shows\",\n",
    "       fill = \"Type\") +\n",
    "  theme_minimal() +\n",
    "  theme(plot.title = element_text(hjust = 0.5))"
   ]
  }
 ],
 "metadata": {
  "kernelspec": {
   "display_name": "base",
   "language": "python",
   "name": "python3"
  },
  "language_info": {
   "codemirror_mode": {
    "name": "ipython",
    "version": 3
   },
   "file_extension": ".py",
   "mimetype": "text/x-python",
   "name": "python",
   "nbconvert_exporter": "python",
   "pygments_lexer": "ipython3",
   "version": "3.12.1"
  }
 },
 "nbformat": 4,
 "nbformat_minor": 2
}
